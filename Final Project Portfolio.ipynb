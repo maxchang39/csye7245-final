{
 "cells": [
  {
   "cell_type": "markdown",
   "metadata": {},
   "source": [
    "## CSYE7245 - Modern Music Genre Classification with large multi-class dataset\n",
    "                                            Ashutosh Mahala, Xiaosui Zhang"
   ]
  },
  {
   "cell_type": "markdown",
   "metadata": {},
   "source": [
    "# Background"
   ]
  },
  {
   "cell_type": "markdown",
   "metadata": {},
   "source": [
    "## Classification of Songs"
   ]
  },
  {
   "cell_type": "markdown",
   "metadata": {},
   "source": [
    "Classifying the songs can reduce the work for searching for a song. Classification can be done on multiple bases like the genre, mood or keywords related to them.  The most of the common way classify the song is through the genre."
   ]
  },
  {
   "cell_type": "markdown",
   "metadata": {},
   "source": [
    "## What is a genre?"
   ]
  },
  {
   "cell_type": "markdown",
   "metadata": {},
   "source": [
    "A genre is any form or type of communication in any mode with socially-agreed upon conventions developed over time.  The genre is most popular in categorizing the music. Music can be devided into different genres in different ways. Due to subjective nature of the music, it is difficult to categories music in one genre and most of the time genre of the music overlap each other."
   ]
  },
  {
   "cell_type": "markdown",
   "metadata": {},
   "source": [
    "## Expectation from the Project"
   ]
  },
  {
   "cell_type": "markdown",
   "metadata": {},
   "source": [
    "To do build a model which automatically classify the songs through their acoustic features."
   ]
  },
  {
   "cell_type": "markdown",
   "metadata": {},
   "source": [
    "## Why did we choose this project?"
   ]
  },
  {
   "cell_type": "markdown",
   "metadata": {},
   "source": [
    "There have been multiple automatic genre detection studies on multiple feature of audio. However they were either heavily based on methods or on features or the target genre scope is very small. The Dataset we are using for the study is more standard and real world. The dataset $\\href{https://github.com/mdeff/fma}{FMA-LTS2}$ has been created from the dump of songs from $\\href{http://freemusicarchive.org/}{FMA}$. FMA is a high qaulity liberary which has certain types music for work which would not be available otherwise due to copyright. It has around 106,500 songs with 163 genres and provides features already extracted from the $\\href{https://librosa.github.io/librosa/}{LibROSA}$ liberary."
   ]
  },
  {
   "cell_type": "markdown",
   "metadata": {},
   "source": [
    "# Let's Start with the Real Work Now"
   ]
  },
  {
   "cell_type": "markdown",
   "metadata": {},
   "source": [
    "### Data Introduction"
   ]
  },
  {
   "cell_type": "markdown",
   "metadata": {},
   "source": [
    "FMA: A Dataset For Music Analysis is the dataset comipled from FMA dumped music by Michaël Defferrard, Kirell Benzi, Pierre Vandergheynst, Xavier Bresson, EPFL LTS2. Consists of:\n",
    "```\n",
    "1. tracks.csv - This csv contains metadata like track_id, track_id, album_name, release date of 106,574 songs\n",
    "2. genres.csv - This csv contains 163 genres.\n",
    "3. features.csv - This csv contains all the features which can be extracted through LibROSA liberary.\n",
    "4. echonest.csv - This csv contains data like danceablity, valence provided by Echonest(now known as Spotify)\n",
    "```"
   ]
  },
  {
   "cell_type": "markdown",
   "metadata": {},
   "source": [
    "In this dataset we maily going to deal with following tables and the columns:\n",
    "1. tracks.csv: \n",
    "<br />    a. track_id: id of the tracks\n",
    "<br />    b. genre_top: this only contains the name of genre which are only one. A song containing multiple genres will be blank for that perticular song\n",
    "2. genres:\n",
    "<br />    a. genre_id: id of genre (This will be our target of prediction for our model)\n",
    "<br />    b. title: title of genre\n",
    "3. features"
   ]
  },
  {
   "cell_type": "markdown",
   "metadata": {},
   "source": [
    "Let's import the liberary needed to run this project"
   ]
  },
  {
   "cell_type": "code",
   "execution_count": 2,
   "metadata": {},
   "outputs": [
    {
     "name": "stderr",
     "output_type": "stream",
     "text": [
      "WARNING (theano.tensor.blas): Using NumPy C-API based implementation for BLAS functions.\n",
      "Using TensorFlow backend.\n"
     ]
    }
   ],
   "source": [
    "import numpy as np\n",
    "import pandas as pd\n",
    "import theano\n",
    "import theano.tensor as T\n",
    "import keras\n",
    "import urllib.request\n",
    "import zipfile\n",
    "import os.path\n",
    "\n",
    "import matplotlib.pyplot as plt\n",
    "import seaborn as sns\n",
    "\n",
    "from sklearn.preprocessing import LabelEncoder\n",
    "from sklearn.preprocessing import StandardScaler\n",
    "from sklearn.model_selection import train_test_split\n",
    "# -- Keras Import\n",
    "from keras.models import Sequential\n",
    "from keras.layers import Dense, Activation\n",
    "from keras.preprocessing import image\n",
    "\n",
    "from keras.models import Sequential\n",
    "from keras.layers import Dense, Dropout, Activation, Flatten\n",
    "from keras.layers import Conv2D, MaxPooling2D\n",
    "\n",
    "from keras.utils import np_utils\n",
    "from keras.preprocessing import sequence\n",
    "from keras.layers.embeddings import Embedding\n",
    "from keras.layers.recurrent import LSTM, GRU, SimpleRNN\n",
    "\n",
    "from keras.layers import Activation, TimeDistributed, RepeatVector\n",
    "from keras.callbacks import EarlyStopping, ModelCheckpoint"
   ]
  },
  {
   "cell_type": "markdown",
   "metadata": {},
   "source": [
    "Let's set the global variables from where we are going to download the dataset and where we are goin to save these"
   ]
  },
  {
   "cell_type": "code",
   "execution_count": 3,
   "metadata": {},
   "outputs": [],
   "source": [
    "# Global variables\n",
    "url_loc = 'https://os.unil.cloud.switch.ch/fma/fma_metadata.zip'\n",
    "file_loc = './data/fma_metadata.zip'\n",
    "dir_unzip_loc = './data/'\n",
    "\n",
    "data_length = 5000"
   ]
  },
  {
   "cell_type": "markdown",
   "metadata": {},
   "source": [
    "Let's start downloading the data"
   ]
  },
  {
   "cell_type": "code",
   "execution_count": 4,
   "metadata": {},
   "outputs": [],
   "source": [
    "# Download zipped fma meta data\n",
    "if not os.path.isfile(file_loc):\n",
    "    urllib.request.urlretrieve(url_loc, file_loc)"
   ]
  },
  {
   "cell_type": "markdown",
   "metadata": {},
   "source": [
    "and then unzip it"
   ]
  },
  {
   "cell_type": "code",
   "execution_count": 5,
   "metadata": {},
   "outputs": [],
   "source": [
    "# Unzip fma meta data\n",
    "if not os.path.isdir(dir_unzip_loc):\n",
    "    with zipfile.ZipFile(file_loc, 'r') as zip_ref:\n",
    "        zip_ref.extractall(dir_unzip_loc)"
   ]
  },
  {
   "cell_type": "markdown",
   "metadata": {},
   "source": [
    "Now we are going to load these dataset in the pandas dataframes"
   ]
  },
  {
   "cell_type": "code",
   "execution_count": 6,
   "metadata": {},
   "outputs": [
    {
     "data": {
      "text/plain": [
       "1"
      ]
     },
     "execution_count": 6,
     "metadata": {},
     "output_type": "execute_result"
    }
   ],
   "source": [
    "# We are goint to read the headers seperatly and create an list\n",
    "feat_header = pd.read_csv(dir_unzip_loc + \"fma_metadata/features.csv\", header=None, nrows=3)\n",
    "feat_header = feat_header.transpose(copy = True)\n",
    "name = []\n",
    "for index, row in feat_header.iterrows():\n",
    "    name.append(row[0]+\"#\"+row[1]+\"#\"+row[2])\n",
    "name[0] = \"track_id\"\n",
    "\n",
    "#Now read the dataset\n",
    "df_tracks = pd.read_csv(dir_unzip_loc + \"fma_metadata/tracks.csv\", skiprows=[0,2]);\n",
    "df_features = pd.read_csv(dir_unzip_loc + \"fma_metadata/features.csv\", header = None, names= name ,skiprows=4);\n",
    "# df_features = pd.read_csv(dir_unzip_loc + \"fma_metadata/features.csv\", header = None, names= a ,skiprows=4, nrows=data_length);\n",
    "df_genres = pd.read_csv(dir_unzip_loc + \"fma_metadata/genres.csv\", skiprows=0, nrows=data_length);\n",
    "\n",
    "df_tracks = df_tracks.rename(columns={ df_tracks.columns[0]: \"track_id\" })\n",
    "df_features = df_features.rename(columns={ df_features.columns[0]: \"track_id\" })\n",
    "1"
   ]
  },
  {
   "cell_type": "markdown",
   "metadata": {},
   "source": [
    "Let's check the structure of df_tracks dataframe"
   ]
  },
  {
   "cell_type": "code",
   "execution_count": 8,
   "metadata": {},
   "outputs": [
    {
     "name": "stdout",
     "output_type": "stream",
     "text": [
      "<class 'pandas.core.frame.DataFrame'>\n",
      "RangeIndex: 106574 entries, 0 to 106573\n",
      "Data columns (total 53 columns):\n",
      "track_id             106574 non-null int64\n",
      "comments             106574 non-null int64\n",
      "date_created         103045 non-null object\n",
      "date_released        70294 non-null object\n",
      "engineer             15295 non-null object\n",
      "favorites            106574 non-null int64\n",
      "id                   106574 non-null int64\n",
      "information          83149 non-null object\n",
      "listens              106574 non-null int64\n",
      "producer             18060 non-null object\n",
      "tags                 106574 non-null object\n",
      "title                105549 non-null object\n",
      "tracks               106574 non-null int64\n",
      "type                 100066 non-null object\n",
      "active_year_begin    22711 non-null object\n",
      "active_year_end      5375 non-null object\n",
      "associated_labels    14271 non-null object\n",
      "bio                  71156 non-null object\n",
      "comments.1           106574 non-null int64\n",
      "date_created.1       105718 non-null object\n",
      "favorites.1          106574 non-null int64\n",
      "id.1                 106574 non-null int64\n",
      "latitude             44544 non-null float64\n",
      "location             70210 non-null object\n",
      "longitude            44544 non-null float64\n",
      "members              46849 non-null object\n",
      "name                 106574 non-null object\n",
      "related_projects     13152 non-null object\n",
      "tags.1               106574 non-null object\n",
      "website              79256 non-null object\n",
      "wikipedia_page       5581 non-null object\n",
      "split                106574 non-null object\n",
      "subset               106574 non-null object\n",
      "bit_rate             106574 non-null int64\n",
      "comments.2           106574 non-null int64\n",
      "composer             3670 non-null object\n",
      "date_created.2       106574 non-null object\n",
      "date_recorded        6159 non-null object\n",
      "duration             106574 non-null int64\n",
      "favorites.2          106574 non-null int64\n",
      "genre_top            49598 non-null object\n",
      "genres               106574 non-null object\n",
      "genres_all           106574 non-null object\n",
      "information.1        2349 non-null object\n",
      "interest             106574 non-null int64\n",
      "language_code        15024 non-null object\n",
      "license              106487 non-null object\n",
      "listens.1            106574 non-null int64\n",
      "lyricist             311 non-null object\n",
      "number               106574 non-null int64\n",
      "publisher            1263 non-null object\n",
      "tags.2               106574 non-null object\n",
      "title.1              106573 non-null object\n",
      "dtypes: float64(2), int64(16), object(35)\n",
      "memory usage: 43.1+ MB\n"
     ]
    }
   ],
   "source": [
    "df_tracks.info()"
   ]
  },
  {
   "cell_type": "markdown",
   "metadata": {},
   "source": [
    "By looking at the info, we can say following things:\n",
    "1. track_id column doesn't have any value which is no non numeric value. otherwise it would have parsed as object not as int64. \n",
    "1. genre_top column has less number of values, however at the same time genres and genres_all have same value as the track_id which implies if there are no missing values in track_id. Then the genre_top value are the only genres which are only single for one song. Because genre_top only account for the pure genre type of songs while the genre type if for all genres associated with the perticular song. So we are going to focus on this as our classification target.\n",
    "1. We can see there are 30% of missing values for release date for an album (date_released) which is around 70 percent. Which can fairly give us the idea what period of songs were targeted while making the dataset. "
   ]
  },
  {
   "cell_type": "markdown",
   "metadata": {},
   "source": [
    "Let's check if there are any missing values in the track_id"
   ]
  },
  {
   "cell_type": "code",
   "execution_count": 9,
   "metadata": {},
   "outputs": [
    {
     "data": {
      "text/plain": [
       "0"
      ]
     },
     "execution_count": 9,
     "metadata": {},
     "output_type": "execute_result"
    }
   ],
   "source": [
    "df_tracks.track_id.isnull().sum()"
   ]
  },
  {
   "cell_type": "markdown",
   "metadata": {},
   "source": [
    "As we can see there are no missing values. It looks the track_id has been parsed correctly.\n",
    "<br /> Now let's have a look at the features table"
   ]
  },
  {
   "cell_type": "code",
   "execution_count": 11,
   "metadata": {},
   "outputs": [
    {
     "name": "stdout",
     "output_type": "stream",
     "text": [
      "<class 'pandas.core.frame.DataFrame'>\n",
      "RangeIndex: 106574 entries, 0 to 106573\n",
      "Columns: 519 entries, track_id to zcr#std#01\n",
      "dtypes: float64(518), int64(1)\n",
      "memory usage: 422.0 MB\n"
     ]
    }
   ],
   "source": [
    "df_features.info()"
   ]
  },
  {
   "cell_type": "markdown",
   "metadata": {},
   "source": [
    "OMG 519 columns! Look's rather daunting. Allow me to explain "
   ]
  },
  {
   "cell_type": "markdown",
   "metadata": {},
   "source": [
    "This data is pretty inflated. The actual number of features are just 10. However, these features have been taken on different time frames of songs. \n",
    "<br /> This dataset has column at three level:\n",
    "    1. Audio feature\n",
    "    2. Statictical feature: like mean, meadian, min, max\n",
    "    3. The window: Each song has been devided into 12 parts and then features have been extracted out of them."
   ]
  },
  {
   "cell_type": "markdown",
   "metadata": {},
   "source": [
    "We are actaully dealing with the following audio features here:\n",
    "1. $\\href {http://ismir2011.ismir.net/papers/PS2-8.pdf}{Chroma-features}$: chroma_cens, chroma_cqt, chroma_stft\n",
    "2. $\\href{https://en.wikipedia.org/wiki/Mel-frequency_cepstrum} {mfcc}$\n",
    "3. $\\href{https://en.wikipedia.org/wiki/Energy_(signal_processing%29)} {rmse}$: Root-Mean square Energy\n",
    "4. $\\href{https://en.wikipedia.org/wiki/Spectral_centroid} {Sprectral-Centroid}$\n",
    "5. $\\href {https://ieeexplore.ieee.org/document/1035731} {Spectral-Contrast}$\n",
    "6. $\\href {https://ccrma.stanford.edu/~jos/sasp/Spectral_Roll_Off.html} {Spectral-rolloff}$\n",
    "7. $\\href {https://en.wikipedia.org/wiki/Tonnetz} {Tonnetz}$\n",
    "8. $\\href {https://en.wikipedia.org/wiki/Zero_crossing} {zcr}$: Zero cross Rate"
   ]
  },
  {
   "cell_type": "markdown",
   "metadata": {},
   "source": [
    "If there is any missing value while the feature extraction"
   ]
  },
  {
   "cell_type": "code",
   "execution_count": 13,
   "metadata": {},
   "outputs": [
    {
     "data": {
      "text/plain": [
       "array([0])"
      ]
     },
     "execution_count": 13,
     "metadata": {},
     "output_type": "execute_result"
    }
   ],
   "source": [
    "df_features.isnull().sum().unique()"
   ]
  },
  {
   "cell_type": "markdown",
   "metadata": {},
   "source": [
    "By looking above we can say that there are no feature which data has net been extracted."
   ]
  },
  {
   "cell_type": "markdown",
   "metadata": {},
   "source": [
    "---\n",
    "### Merging the tables\n",
    "Takeing only the data which we need for training the model."
   ]
  },
  {
   "cell_type": "code",
   "execution_count": 7,
   "metadata": {},
   "outputs": [
    {
     "data": {
      "text/html": [
       "<div>\n",
       "<style scoped>\n",
       "    .dataframe tbody tr th:only-of-type {\n",
       "        vertical-align: middle;\n",
       "    }\n",
       "\n",
       "    .dataframe tbody tr th {\n",
       "        vertical-align: top;\n",
       "    }\n",
       "\n",
       "    .dataframe thead th {\n",
       "        text-align: right;\n",
       "    }\n",
       "</style>\n",
       "<table border=\"1\" class=\"dataframe\">\n",
       "  <thead>\n",
       "    <tr style=\"text-align: right;\">\n",
       "      <th></th>\n",
       "      <th>genre_id</th>\n",
       "      <th>track_id</th>\n",
       "    </tr>\n",
       "  </thead>\n",
       "  <tbody>\n",
       "    <tr>\n",
       "      <th>0</th>\n",
       "      <td>21</td>\n",
       "      <td>2</td>\n",
       "    </tr>\n",
       "    <tr>\n",
       "      <th>1</th>\n",
       "      <td>21</td>\n",
       "      <td>3</td>\n",
       "    </tr>\n",
       "    <tr>\n",
       "      <th>2</th>\n",
       "      <td>21</td>\n",
       "      <td>5</td>\n",
       "    </tr>\n",
       "    <tr>\n",
       "      <th>3</th>\n",
       "      <td>21</td>\n",
       "      <td>134</td>\n",
       "    </tr>\n",
       "    <tr>\n",
       "      <th>4</th>\n",
       "      <td>21</td>\n",
       "      <td>583</td>\n",
       "    </tr>\n",
       "  </tbody>\n",
       "</table>\n",
       "</div>"
      ],
      "text/plain": [
       "   genre_id  track_id\n",
       "0        21         2\n",
       "1        21         3\n",
       "2        21         5\n",
       "3        21       134\n",
       "4        21       583"
      ]
     },
     "execution_count": 7,
     "metadata": {},
     "output_type": "execute_result"
    }
   ],
   "source": [
    "df_tracks_only_genre = df_tracks[['genre_top','track_id']]\n",
    "df_tracks_only_genre_with_id = pd.merge(df_tracks_only_genre, df_genres, left_on=\"genre_top\", right_on=\"title\", how='inner')\n",
    "df_tracks_only_genre_with_id = df_tracks_only_genre_with_id[['genre_id','track_id']]\n",
    "df_tracks_only_genre_with_id.head()"
   ]
  },
  {
   "cell_type": "code",
   "execution_count": 8,
   "metadata": {},
   "outputs": [
    {
     "data": {
      "text/html": [
       "<div>\n",
       "<style scoped>\n",
       "    .dataframe tbody tr th:only-of-type {\n",
       "        vertical-align: middle;\n",
       "    }\n",
       "\n",
       "    .dataframe tbody tr th {\n",
       "        vertical-align: top;\n",
       "    }\n",
       "\n",
       "    .dataframe thead th {\n",
       "        text-align: right;\n",
       "    }\n",
       "</style>\n",
       "<table border=\"1\" class=\"dataframe\">\n",
       "  <thead>\n",
       "    <tr style=\"text-align: right;\">\n",
       "      <th></th>\n",
       "      <th>genre_id</th>\n",
       "      <th>track_id</th>\n",
       "      <th>chroma_cens#kurtosis#01</th>\n",
       "      <th>chroma_cens#kurtosis#02</th>\n",
       "      <th>chroma_cens#kurtosis#03</th>\n",
       "      <th>chroma_cens#kurtosis#04</th>\n",
       "      <th>chroma_cens#kurtosis#05</th>\n",
       "      <th>chroma_cens#kurtosis#06</th>\n",
       "      <th>chroma_cens#kurtosis#07</th>\n",
       "      <th>chroma_cens#kurtosis#08</th>\n",
       "      <th>...</th>\n",
       "      <th>tonnetz#std#04</th>\n",
       "      <th>tonnetz#std#05</th>\n",
       "      <th>tonnetz#std#06</th>\n",
       "      <th>zcr#kurtosis#01</th>\n",
       "      <th>zcr#max#01</th>\n",
       "      <th>zcr#mean#01</th>\n",
       "      <th>zcr#median#01</th>\n",
       "      <th>zcr#min#01</th>\n",
       "      <th>zcr#skew#01</th>\n",
       "      <th>zcr#std#01</th>\n",
       "    </tr>\n",
       "  </thead>\n",
       "  <tbody>\n",
       "    <tr>\n",
       "      <th>0</th>\n",
       "      <td>21</td>\n",
       "      <td>2</td>\n",
       "      <td>7.180653</td>\n",
       "      <td>5.230309</td>\n",
       "      <td>0.249321</td>\n",
       "      <td>1.347620</td>\n",
       "      <td>1.482478</td>\n",
       "      <td>0.531371</td>\n",
       "      <td>1.481593</td>\n",
       "      <td>2.691455</td>\n",
       "      <td>...</td>\n",
       "      <td>0.054125</td>\n",
       "      <td>0.012226</td>\n",
       "      <td>0.012111</td>\n",
       "      <td>5.758890</td>\n",
       "      <td>0.459473</td>\n",
       "      <td>0.085629</td>\n",
       "      <td>0.071289</td>\n",
       "      <td>0.000000</td>\n",
       "      <td>2.089872</td>\n",
       "      <td>0.061448</td>\n",
       "    </tr>\n",
       "    <tr>\n",
       "      <th>1</th>\n",
       "      <td>21</td>\n",
       "      <td>3</td>\n",
       "      <td>1.888963</td>\n",
       "      <td>0.760539</td>\n",
       "      <td>0.345297</td>\n",
       "      <td>2.295201</td>\n",
       "      <td>1.654031</td>\n",
       "      <td>0.067592</td>\n",
       "      <td>1.366848</td>\n",
       "      <td>1.054094</td>\n",
       "      <td>...</td>\n",
       "      <td>0.063831</td>\n",
       "      <td>0.014212</td>\n",
       "      <td>0.017740</td>\n",
       "      <td>2.824694</td>\n",
       "      <td>0.466309</td>\n",
       "      <td>0.084578</td>\n",
       "      <td>0.063965</td>\n",
       "      <td>0.000000</td>\n",
       "      <td>1.716724</td>\n",
       "      <td>0.069330</td>\n",
       "    </tr>\n",
       "    <tr>\n",
       "      <th>2</th>\n",
       "      <td>21</td>\n",
       "      <td>5</td>\n",
       "      <td>0.527563</td>\n",
       "      <td>-0.077654</td>\n",
       "      <td>-0.279610</td>\n",
       "      <td>0.685883</td>\n",
       "      <td>1.937570</td>\n",
       "      <td>0.880839</td>\n",
       "      <td>-0.923192</td>\n",
       "      <td>-0.927232</td>\n",
       "      <td>...</td>\n",
       "      <td>0.040730</td>\n",
       "      <td>0.012691</td>\n",
       "      <td>0.014759</td>\n",
       "      <td>6.808415</td>\n",
       "      <td>0.375000</td>\n",
       "      <td>0.053114</td>\n",
       "      <td>0.041504</td>\n",
       "      <td>0.000000</td>\n",
       "      <td>2.193303</td>\n",
       "      <td>0.044861</td>\n",
       "    </tr>\n",
       "    <tr>\n",
       "      <th>3</th>\n",
       "      <td>21</td>\n",
       "      <td>134</td>\n",
       "      <td>0.918445</td>\n",
       "      <td>0.674147</td>\n",
       "      <td>0.577818</td>\n",
       "      <td>1.281117</td>\n",
       "      <td>0.933746</td>\n",
       "      <td>0.078177</td>\n",
       "      <td>1.199204</td>\n",
       "      <td>-0.175223</td>\n",
       "      <td>...</td>\n",
       "      <td>0.058766</td>\n",
       "      <td>0.016322</td>\n",
       "      <td>0.015819</td>\n",
       "      <td>4.731087</td>\n",
       "      <td>0.419434</td>\n",
       "      <td>0.064370</td>\n",
       "      <td>0.050781</td>\n",
       "      <td>0.000000</td>\n",
       "      <td>1.806106</td>\n",
       "      <td>0.054623</td>\n",
       "    </tr>\n",
       "    <tr>\n",
       "      <th>4</th>\n",
       "      <td>21</td>\n",
       "      <td>583</td>\n",
       "      <td>-0.028032</td>\n",
       "      <td>0.509161</td>\n",
       "      <td>0.067235</td>\n",
       "      <td>0.465656</td>\n",
       "      <td>-0.448363</td>\n",
       "      <td>1.086958</td>\n",
       "      <td>-0.103174</td>\n",
       "      <td>-0.247502</td>\n",
       "      <td>...</td>\n",
       "      <td>0.058434</td>\n",
       "      <td>0.018185</td>\n",
       "      <td>0.017061</td>\n",
       "      <td>2.111479</td>\n",
       "      <td>0.270508</td>\n",
       "      <td>0.036760</td>\n",
       "      <td>0.025879</td>\n",
       "      <td>0.000977</td>\n",
       "      <td>1.296176</td>\n",
       "      <td>0.033785</td>\n",
       "    </tr>\n",
       "  </tbody>\n",
       "</table>\n",
       "<p>5 rows × 520 columns</p>\n",
       "</div>"
      ],
      "text/plain": [
       "   genre_id  track_id  chroma_cens#kurtosis#01  chroma_cens#kurtosis#02  \\\n",
       "0        21         2                 7.180653                 5.230309   \n",
       "1        21         3                 1.888963                 0.760539   \n",
       "2        21         5                 0.527563                -0.077654   \n",
       "3        21       134                 0.918445                 0.674147   \n",
       "4        21       583                -0.028032                 0.509161   \n",
       "\n",
       "   chroma_cens#kurtosis#03  chroma_cens#kurtosis#04  chroma_cens#kurtosis#05  \\\n",
       "0                 0.249321                 1.347620                 1.482478   \n",
       "1                 0.345297                 2.295201                 1.654031   \n",
       "2                -0.279610                 0.685883                 1.937570   \n",
       "3                 0.577818                 1.281117                 0.933746   \n",
       "4                 0.067235                 0.465656                -0.448363   \n",
       "\n",
       "   chroma_cens#kurtosis#06  chroma_cens#kurtosis#07  chroma_cens#kurtosis#08  \\\n",
       "0                 0.531371                 1.481593                 2.691455   \n",
       "1                 0.067592                 1.366848                 1.054094   \n",
       "2                 0.880839                -0.923192                -0.927232   \n",
       "3                 0.078177                 1.199204                -0.175223   \n",
       "4                 1.086958                -0.103174                -0.247502   \n",
       "\n",
       "      ...      tonnetz#std#04  tonnetz#std#05  tonnetz#std#06  \\\n",
       "0     ...            0.054125        0.012226        0.012111   \n",
       "1     ...            0.063831        0.014212        0.017740   \n",
       "2     ...            0.040730        0.012691        0.014759   \n",
       "3     ...            0.058766        0.016322        0.015819   \n",
       "4     ...            0.058434        0.018185        0.017061   \n",
       "\n",
       "   zcr#kurtosis#01  zcr#max#01  zcr#mean#01  zcr#median#01  zcr#min#01  \\\n",
       "0         5.758890    0.459473     0.085629       0.071289    0.000000   \n",
       "1         2.824694    0.466309     0.084578       0.063965    0.000000   \n",
       "2         6.808415    0.375000     0.053114       0.041504    0.000000   \n",
       "3         4.731087    0.419434     0.064370       0.050781    0.000000   \n",
       "4         2.111479    0.270508     0.036760       0.025879    0.000977   \n",
       "\n",
       "   zcr#skew#01  zcr#std#01  \n",
       "0     2.089872    0.061448  \n",
       "1     1.716724    0.069330  \n",
       "2     2.193303    0.044861  \n",
       "3     1.806106    0.054623  \n",
       "4     1.296176    0.033785  \n",
       "\n",
       "[5 rows x 520 columns]"
      ]
     },
     "execution_count": 8,
     "metadata": {},
     "output_type": "execute_result"
    }
   ],
   "source": [
    "# Merge\n",
    "df = pd.merge(df_tracks_only_genre_with_id, df_features, on =\"track_id\", how='inner')\n",
    "df.head()"
   ]
  },
  {
   "cell_type": "markdown",
   "metadata": {},
   "source": [
    "Now it seema we are properly able to merge the tables"
   ]
  },
  {
   "cell_type": "markdown",
   "metadata": {},
   "source": [
    "### Data Analysis"
   ]
  },
  {
   "cell_type": "markdown",
   "metadata": {},
   "source": [
    "Now Let's do some data analysis."
   ]
  },
  {
   "cell_type": "markdown",
   "metadata": {},
   "source": [
    "First we will check how many genre we are specifically dealing with after merging as it removes the songs which belongs to more than one genre."
   ]
  },
  {
   "cell_type": "code",
   "execution_count": 11,
   "metadata": {},
   "outputs": [
    {
     "data": {
      "text/plain": [
       "16"
      ]
     },
     "execution_count": 11,
     "metadata": {},
     "output_type": "execute_result"
    }
   ],
   "source": [
    "df.genre_id.unique().size"
   ]
  },
  {
   "cell_type": "markdown",
   "metadata": {},
   "source": [
    "We can see from 163 genres we are down to 16 only. But let's check how it is distributed."
   ]
  },
  {
   "cell_type": "code",
   "execution_count": 12,
   "metadata": {},
   "outputs": [
    {
     "data": {
      "text/plain": [
       "genre_id\n",
       "12      14182\n",
       "38      10608\n",
       "15       9372\n",
       "21       3552\n",
       "17       2803\n",
       "10       2332\n",
       "1235     2079\n",
       "2        1389\n",
       "5        1230\n",
       "4         571\n",
       "8         554\n",
       "20        423\n",
       "9         194\n",
       "14        175\n",
       "3         110\n",
       "13         24\n",
       "Name: genre_id, dtype: int64"
      ]
     },
     "execution_count": 12,
     "metadata": {},
     "output_type": "execute_result"
    }
   ],
   "source": [
    "df[\"genre_id\"].groupby(df[\"genre_id\"]).count().sort_values(ascending=False)"
   ]
  },
  {
   "cell_type": "markdown",
   "metadata": {},
   "source": [
    "Seems  we have quite abundance of genre 12 which is \"Rock\" by the way is the most common.\n",
    "<br /> we can see our song language distribution as well. which is pretty skewed. English is abundance as this site is english regenal. There will be some language as well as people are from different place or they like to hear different language songs however it should be less in number"
   ]
  },
  {
   "cell_type": "code",
   "execution_count": 14,
   "metadata": {},
   "outputs": [
    {
     "data": {
      "text/plain": [
       "<matplotlib.axes._subplots.AxesSubplot at 0x7fdb514d92b0>"
      ]
     },
     "execution_count": 14,
     "metadata": {},
     "output_type": "execute_result"
    },
    {
     "data": {
      "image/png": "[encoded data removed]",
      "text/plain": [
       "<Figure size 720x720 with 1 Axes>"
      ]
     },
     "metadata": {
      "needs_background": "light"
     },
     "output_type": "display_data"
    }
   ],
   "source": [
    "df_tracks[\"language_code\"].groupby(df_tracks[\"language_code\"]).count().sort_values(ascending=False).plot(kind=\"bar\", figsize=[10,10])"
   ]
  },
  {
   "cell_type": "markdown",
   "metadata": {},
   "source": [
    "Let's check one of the feature RMSE. which is used to check the scielence in the signal. That means the signal which has lower RMSE will hasve more silence in it."
   ]
  },
  {
   "cell_type": "code",
   "execution_count": 15,
   "metadata": {},
   "outputs": [
    {
     "data": {
      "image/png": "[encoded data removed]",
      "text/plain": [
       "<Figure size 1080x864 with 1 Axes>"
      ]
     },
     "metadata": {},
     "output_type": "display_data"
    }
   ],
   "source": [
    "sns.set(rc={'figure.figsize':(15,12)})\n",
    "sns.boxplot(x=\"genre_id\", y=\"rmse#mean#01\", data=df);"
   ]
  },
  {
   "cell_type": "markdown",
   "metadata": {},
   "source": [
    "From the above graphs we can see that some songs have more silence in them than the other songs. Here we can see that some genres clearly have more silence in them than the other genres."
   ]
  },
  {
   "cell_type": "code",
   "execution_count": 16,
   "metadata": {},
   "outputs": [
    {
     "data": {
      "text/plain": [
       "<matplotlib.axes._subplots.AxesSubplot at 0x7fdb4b159fd0>"
      ]
     },
     "execution_count": 16,
     "metadata": {},
     "output_type": "execute_result"
    },
    {
     "data": {
      "image/png": "[encoded data removed]",
      "text/plain": [
       "<Figure size 720x720 with 1 Axes>"
      ]
     },
     "metadata": {},
     "output_type": "display_data"
    }
   ],
   "source": [
    "df[[\"chroma_cens#kurtosis#06\",\"genre_id\"]].groupby(df[\"genre_id\"]).mean().sort_values(by = \"chroma_cens#kurtosis#06\",ascending=False).head(30).plot(x=\"genre_id\", y=\"chroma_cens#kurtosis#06\", kind=\"bar\", figsize=[10,10])"
   ]
  },
  {
   "cell_type": "markdown",
   "metadata": {},
   "source": [
    "We are looking at the chroma cens feature which relates to the energy in the octave. And the statistical feature are considering here is kurtosis which looks tailness. This means the some songs have lower raising and declining rate in ocatave than the other songs. Which is pretty common in certain types of genre. which clearly differentiate them."
   ]
  },
  {
   "cell_type": "markdown",
   "metadata": {},
   "source": [
    "##  Methods - Let's train some models now"
   ]
  },
  {
   "cell_type": "markdown",
   "metadata": {},
   "source": [
    "We will apply random forest, svm and nerual network(RNN) to the data we have. A 10-fold cross validation will be used and the optimization will be based on grid search with multiple hyperparameters."
   ]
  },
  {
   "cell_type": "markdown",
   "metadata": {},
   "source": [
    "### 1. Random Forest"
   ]
  },
  {
   "cell_type": "markdown",
   "metadata": {},
   "source": [
    "Random forset is the ensemble method of multiple classification desision tree and linear regression. We train maultiple descision trees and then enseble them for their end result.\n",
    "![image.svg](https://dimensionless.in/wp-content/uploads/RandomForest_blog_files/figure-html/intro.jpg)"
   ]
  },
  {
   "cell_type": "markdown",
   "metadata": {},
   "source": [
    "Let's train our first model which is Random Forest"
   ]
  },
  {
   "cell_type": "code",
   "execution_count": 12,
   "metadata": {},
   "outputs": [
    {
     "name": "stdout",
     "output_type": "stream",
     "text": [
      "Processing FMA data upon Random Forest, hyperparameters are [n_estimators, min_samples_leaf, max_features]\n",
      "Random forest with [100, 5, 3] gets accuracy 0.25263157894736843 \n",
      "Random forest with [100, 5, 10] gets accuracy 0.3157894736842105 \n",
      "Random forest with [100, 20, 3] gets accuracy 0.2 \n",
      "Random forest with [100, 20, 10] gets accuracy 0.21052631578947367 \n",
      "Random forest with [500, 5, 3] gets accuracy 0.23157894736842105 \n",
      "Random forest with [500, 5, 10] gets accuracy 0.3157894736842105 \n",
      "Random forest with [500, 20, 3] gets accuracy 0.22105263157894736 \n",
      "Random forest with [500, 20, 10] gets accuracy 0.22105263157894736 \n",
      "Best random forest with [100, 5, 10] gets accuracy 0.3157894736842105 \n"
     ]
    }
   ],
   "source": [
    "n_max = 0\n",
    "msl_max = 0\n",
    "mf_max = 0\n",
    "acc_max = 0\n",
    "\n",
    "print (\"Processing FMA data upon Random Forest, hyperparameters are [n_estimators, min_samples_leaf, max_features]\")\n",
    "\n",
    "for n in [100, 500]:\n",
    "    for msl in [5, 20]:\n",
    "        for mf in [3, 10]:\n",
    "            # Build the model\n",
    "            rf = RandomForestClassifier(n_estimators = n,\n",
    "                                        min_samples_leaf=msl,\n",
    "                                        max_features=mf,                                        \n",
    "                                        criterion='gini',)\n",
    "            m = rf.fit(X_train, Y_train)\n",
    "            Y_pred = m.predict(X_test)\n",
    "            acc = metrics.accuracy_score(Y_test, Y_pred)\n",
    "            print(\"Random forest with [%r, %r, %r] gets accuracy %r \" % (\n",
    "                n, msl, mf, acc))\n",
    "            if acc_max < acc:\n",
    "                  acc_max = acc\n",
    "                  n_max = n\n",
    "                  msl_max = msl\n",
    "                  mf_max = mf\n",
    "                \n",
    "\n",
    "print(\"Best random forest with [%r, %r, %r] gets accuracy %r \" % (\n",
    "    n_max, msl_max, mf_max, acc_max))"
   ]
  },
  {
   "cell_type": "markdown",
   "metadata": {},
   "source": [
    "### 2. Neural Network - RNN"
   ]
  },
  {
   "cell_type": "markdown",
   "metadata": {},
   "source": [
    "A recurrent neural network (RNN) is a class of artificial neural network where connections between nodes form a directed graph along a sequence. This allows it to exhibit temporal dynamic behavior for a time sequence. Unlike feedforward neural networks, RNNs can use their internal state (memory) to process sequences of inputs. This makes them applicable to tasks such as unsegmented, connected handwriting recognition or speech recognition.\n",
    "* The document is licensed by wiki: https://en.wikipedia.org/wiki/Wikipedia:Copyrights"
   ]
  },
  {
   "cell_type": "markdown",
   "metadata": {},
   "source": [
    "![image.svg](https://www.codeproject.com/KB/AI/1206388/rnn_5.PNG)"
   ]
  },
  {
   "cell_type": "code",
   "execution_count": 13,
   "metadata": {},
   "outputs": [
    {
     "name": "stdout",
     "output_type": "stream",
     "text": [
      "(852, 1, 518)\n",
      "(95, 1, 518)\n",
      "(852, 1, 40)\n",
      "(95, 1, 40)\n"
     ]
    }
   ],
   "source": [
    "# Reshape the data for RNN\n",
    "X_train_rnn = np.reshape(X_train, (X_train.shape[0], 1, X_train.shape[1]))\n",
    "X_test_rnn = np.reshape(X_test, (X_test.shape[0], 1, X_test.shape[1]))\n",
    "\n",
    "Y_train_rnn = np.reshape(Y_train, (Y_train.shape[0], 1, Y_train.shape[1]))\n",
    "Y_test_rnn = np.reshape(Y_test, (Y_test.shape[0], 1, Y_test.shape[1]))\n",
    "\n",
    "print(X_train_rnn.shape)\n",
    "print(X_test_rnn.shape)\n",
    "print(Y_train_rnn.shape)\n",
    "print(Y_test_rnn.shape)"
   ]
  },
  {
   "cell_type": "code",
   "execution_count": 14,
   "metadata": {},
   "outputs": [
    {
     "name": "stdout",
     "output_type": "stream",
     "text": [
      "Processing FMA data upon RNN, hyperparameters are [dropout, bias_initializer, activation]\n"
     ]
    },
    {
     "name": "stderr",
     "output_type": "stream",
     "text": [
      "C:\\Users\\maxch_000\\Anaconda3\\lib\\site-packages\\ipykernel_launcher.py:13: UserWarning: The `input_dim` and `input_length` arguments in recurrent layers are deprecated. Use `input_shape` instead.\n",
      "  del sys.path[0]\n",
      "C:\\Users\\maxch_000\\Anaconda3\\lib\\site-packages\\ipykernel_launcher.py:13: UserWarning: Update your `SimpleRNN` call to the Keras 2 API: `SimpleRNN(return_sequences=True, input_shape=(None, 518..., units=40)`\n",
      "  del sys.path[0]\n"
     ]
    },
    {
     "name": "stdout",
     "output_type": "stream",
     "text": [
      "_________________________________________________________________\n",
      "Layer (type)                 Output Shape              Param #   \n",
      "=================================================================\n",
      "simple_rnn_1 (SimpleRNN)     (None, None, 40)          22360     \n",
      "_________________________________________________________________\n",
      "dropout_1 (Dropout)          (None, None, 40)          0         \n",
      "_________________________________________________________________\n",
      "dense_1 (Dense)              (None, None, 40)          1640      \n",
      "_________________________________________________________________\n",
      "activation_1 (Activation)    (None, None, 40)          0         \n",
      "=================================================================\n",
      "Total params: 24,000\n",
      "Trainable params: 24,000\n",
      "Non-trainable params: 0\n",
      "_________________________________________________________________\n",
      "RNN with [0.3, 'zeros', 'sigmoid'] gets accuracy 0.22105263157894736 \n",
      "_________________________________________________________________\n",
      "Layer (type)                 Output Shape              Param #   \n",
      "=================================================================\n",
      "simple_rnn_2 (SimpleRNN)     (None, None, 40)          22360     \n",
      "_________________________________________________________________\n",
      "dropout_2 (Dropout)          (None, None, 40)          0         \n",
      "_________________________________________________________________\n",
      "dense_2 (Dense)              (None, None, 40)          1640      \n",
      "_________________________________________________________________\n",
      "activation_2 (Activation)    (None, None, 40)          0         \n",
      "=================================================================\n",
      "Total params: 24,000\n",
      "Trainable params: 24,000\n",
      "Non-trainable params: 0\n",
      "_________________________________________________________________\n",
      "RNN with [0.3, 'zeros', 'tanh'] gets accuracy 0.4248826296676492 \n",
      "_________________________________________________________________\n",
      "Layer (type)                 Output Shape              Param #   \n",
      "=================================================================\n",
      "simple_rnn_3 (SimpleRNN)     (None, None, 40)          22360     \n",
      "_________________________________________________________________\n",
      "dropout_3 (Dropout)          (None, None, 40)          0         \n",
      "_________________________________________________________________\n",
      "dense_3 (Dense)              (None, None, 40)          1640      \n",
      "_________________________________________________________________\n",
      "activation_3 (Activation)    (None, None, 40)          0         \n",
      "=================================================================\n",
      "Total params: 24,000\n",
      "Trainable params: 24,000\n",
      "Non-trainable params: 0\n",
      "_________________________________________________________________\n",
      "RNN with [0.3, 'zeros', 'relu'] gets accuracy 0.057511736267189466 \n",
      "_________________________________________________________________\n",
      "Layer (type)                 Output Shape              Param #   \n",
      "=================================================================\n",
      "simple_rnn_4 (SimpleRNN)     (None, None, 40)          22360     \n",
      "_________________________________________________________________\n",
      "dropout_4 (Dropout)          (None, None, 40)          0         \n",
      "_________________________________________________________________\n",
      "dense_4 (Dense)              (None, None, 40)          1640      \n",
      "_________________________________________________________________\n",
      "activation_4 (Activation)    (None, None, 40)          0         \n",
      "=================================================================\n",
      "Total params: 24,000\n",
      "Trainable params: 24,000\n",
      "Non-trainable params: 0\n",
      "_________________________________________________________________\n",
      "RNN with [0.3, 'Ones', 'sigmoid'] gets accuracy 0.42488263190632136 \n",
      "_________________________________________________________________\n",
      "Layer (type)                 Output Shape              Param #   \n",
      "=================================================================\n",
      "simple_rnn_5 (SimpleRNN)     (None, None, 40)          22360     \n",
      "_________________________________________________________________\n",
      "dropout_5 (Dropout)          (None, None, 40)          0         \n",
      "_________________________________________________________________\n",
      "dense_5 (Dense)              (None, None, 40)          1640      \n",
      "_________________________________________________________________\n",
      "activation_5 (Activation)    (None, None, 40)          0         \n",
      "=================================================================\n",
      "Total params: 24,000\n",
      "Trainable params: 24,000\n",
      "Non-trainable params: 0\n",
      "_________________________________________________________________\n",
      "RNN with [0.3, 'Ones', 'tanh'] gets accuracy 0.42488262554009754 \n",
      "_________________________________________________________________\n",
      "Layer (type)                 Output Shape              Param #   \n",
      "=================================================================\n",
      "simple_rnn_6 (SimpleRNN)     (None, None, 40)          22360     \n",
      "_________________________________________________________________\n",
      "dropout_6 (Dropout)          (None, None, 40)          0         \n",
      "_________________________________________________________________\n",
      "dense_6 (Dense)              (None, None, 40)          1640      \n",
      "_________________________________________________________________\n",
      "activation_6 (Activation)    (None, None, 40)          0         \n",
      "=================================================================\n",
      "Total params: 24,000\n",
      "Trainable params: 24,000\n",
      "Non-trainable params: 0\n",
      "_________________________________________________________________\n",
      "RNN with [0.3, 'Ones', 'relu'] gets accuracy 0.23826291118289383 \n",
      "_________________________________________________________________\n",
      "Layer (type)                 Output Shape              Param #   \n",
      "=================================================================\n",
      "simple_rnn_7 (SimpleRNN)     (None, None, 40)          22360     \n",
      "_________________________________________________________________\n",
      "dropout_7 (Dropout)          (None, None, 40)          0         \n",
      "_________________________________________________________________\n",
      "dense_7 (Dense)              (None, None, 40)          1640      \n",
      "_________________________________________________________________\n",
      "activation_7 (Activation)    (None, None, 40)          0         \n",
      "=================================================================\n",
      "Total params: 24,000\n",
      "Trainable params: 24,000\n",
      "Non-trainable params: 0\n",
      "_________________________________________________________________\n",
      "RNN with [0.3, 'RandomNormal', 'sigmoid'] gets accuracy 0.3673708984549616 \n",
      "_________________________________________________________________\n",
      "Layer (type)                 Output Shape              Param #   \n",
      "=================================================================\n",
      "simple_rnn_8 (SimpleRNN)     (None, None, 40)          22360     \n",
      "_________________________________________________________________\n",
      "dropout_8 (Dropout)          (None, None, 40)          0         \n",
      "_________________________________________________________________\n",
      "dense_8 (Dense)              (None, None, 40)          1640      \n",
      "_________________________________________________________________\n",
      "activation_8 (Activation)    (None, None, 40)          0         \n",
      "=================================================================\n",
      "Total params: 24,000\n",
      "Trainable params: 24,000\n",
      "Non-trainable params: 0\n",
      "_________________________________________________________________\n",
      "RNN with [0.3, 'RandomNormal', 'tanh'] gets accuracy 0.4248826272890601 \n",
      "_________________________________________________________________\n",
      "Layer (type)                 Output Shape              Param #   \n",
      "=================================================================\n",
      "simple_rnn_9 (SimpleRNN)     (None, None, 40)          22360     \n",
      "_________________________________________________________________\n",
      "dropout_9 (Dropout)          (None, None, 40)          0         \n",
      "_________________________________________________________________\n",
      "dense_9 (Dense)              (None, None, 40)          1640      \n",
      "_________________________________________________________________\n",
      "activation_9 (Activation)    (None, None, 40)          0         \n",
      "=================================================================\n",
      "Total params: 24,000\n",
      "Trainable params: 24,000\n",
      "Non-trainable params: 0\n",
      "_________________________________________________________________\n"
     ]
    },
    {
     "name": "stdout",
     "output_type": "stream",
     "text": [
      "RNN with [0.3, 'RandomNormal', 'relu'] gets accuracy 0.011737088939533548 \n",
      "_________________________________________________________________\n",
      "Layer (type)                 Output Shape              Param #   \n",
      "=================================================================\n",
      "simple_rnn_10 (SimpleRNN)    (None, None, 40)          22360     \n",
      "_________________________________________________________________\n",
      "dropout_10 (Dropout)         (None, None, 40)          0         \n",
      "_________________________________________________________________\n",
      "dense_10 (Dense)             (None, None, 40)          1640      \n",
      "_________________________________________________________________\n",
      "activation_10 (Activation)   (None, None, 40)          0         \n",
      "=================================================================\n",
      "Total params: 24,000\n",
      "Trainable params: 24,000\n",
      "Non-trainable params: 0\n",
      "_________________________________________________________________\n",
      "RNN with [0.5, 'zeros', 'sigmoid'] gets accuracy 0.34624413205004634 \n",
      "_________________________________________________________________\n",
      "Layer (type)                 Output Shape              Param #   \n",
      "=================================================================\n",
      "simple_rnn_11 (SimpleRNN)    (None, None, 40)          22360     \n",
      "_________________________________________________________________\n",
      "dropout_11 (Dropout)         (None, None, 40)          0         \n",
      "_________________________________________________________________\n",
      "dense_11 (Dense)             (None, None, 40)          1640      \n",
      "_________________________________________________________________\n",
      "activation_11 (Activation)   (None, None, 40)          0         \n",
      "=================================================================\n",
      "Total params: 24,000\n",
      "Trainable params: 24,000\n",
      "Non-trainable params: 0\n",
      "_________________________________________________________________\n",
      "RNN with [0.5, 'zeros', 'tanh'] gets accuracy 0.39553990515884657 \n",
      "_________________________________________________________________\n",
      "Layer (type)                 Output Shape              Param #   \n",
      "=================================================================\n",
      "simple_rnn_12 (SimpleRNN)    (None, None, 40)          22360     \n",
      "_________________________________________________________________\n",
      "dropout_12 (Dropout)         (None, None, 40)          0         \n",
      "_________________________________________________________________\n",
      "dense_12 (Dense)             (None, None, 40)          1640      \n",
      "_________________________________________________________________\n",
      "activation_12 (Activation)   (None, None, 40)          0         \n",
      "=================================================================\n",
      "Total params: 24,000\n",
      "Trainable params: 24,000\n",
      "Non-trainable params: 0\n",
      "_________________________________________________________________\n",
      "RNN with [0.5, 'zeros', 'relu'] gets accuracy 0.07276995208096897 \n",
      "_________________________________________________________________\n",
      "Layer (type)                 Output Shape              Param #   \n",
      "=================================================================\n",
      "simple_rnn_13 (SimpleRNN)    (None, None, 40)          22360     \n",
      "_________________________________________________________________\n",
      "dropout_13 (Dropout)         (None, None, 40)          0         \n",
      "_________________________________________________________________\n",
      "dense_13 (Dense)             (None, None, 40)          1640      \n",
      "_________________________________________________________________\n",
      "activation_13 (Activation)   (None, None, 40)          0         \n",
      "=================================================================\n",
      "Total params: 24,000\n",
      "Trainable params: 24,000\n",
      "Non-trainable params: 0\n",
      "_________________________________________________________________\n",
      "RNN with [0.5, 'Ones', 'sigmoid'] gets accuracy 0.36971831318218384 \n",
      "_________________________________________________________________\n",
      "Layer (type)                 Output Shape              Param #   \n",
      "=================================================================\n",
      "simple_rnn_14 (SimpleRNN)    (None, None, 40)          22360     \n",
      "_________________________________________________________________\n",
      "dropout_14 (Dropout)         (None, None, 40)          0         \n",
      "_________________________________________________________________\n",
      "dense_14 (Dense)             (None, None, 40)          1640      \n",
      "_________________________________________________________________\n",
      "activation_14 (Activation)   (None, None, 40)          0         \n",
      "=================================================================\n",
      "Total params: 24,000\n",
      "Trainable params: 24,000\n",
      "Non-trainable params: 0\n",
      "_________________________________________________________________\n",
      "RNN with [0.5, 'Ones', 'tanh'] gets accuracy 0.4190140830379137 \n",
      "_________________________________________________________________\n",
      "Layer (type)                 Output Shape              Param #   \n",
      "=================================================================\n",
      "simple_rnn_15 (SimpleRNN)    (None, None, 40)          22360     \n",
      "_________________________________________________________________\n",
      "dropout_15 (Dropout)         (None, None, 40)          0         \n",
      "_________________________________________________________________\n",
      "dense_15 (Dense)             (None, None, 40)          1640      \n",
      "_________________________________________________________________\n",
      "activation_15 (Activation)   (None, None, 40)          0         \n",
      "=================================================================\n",
      "Total params: 24,000\n",
      "Trainable params: 24,000\n",
      "Non-trainable params: 0\n",
      "_________________________________________________________________\n",
      "RNN with [0.5, 'Ones', 'relu'] gets accuracy 0.08920187747079722 \n",
      "_________________________________________________________________\n",
      "Layer (type)                 Output Shape              Param #   \n",
      "=================================================================\n",
      "simple_rnn_16 (SimpleRNN)    (None, None, 40)          22360     \n",
      "_________________________________________________________________\n",
      "dropout_16 (Dropout)         (None, None, 40)          0         \n",
      "_________________________________________________________________\n",
      "dense_16 (Dense)             (None, None, 40)          1640      \n",
      "_________________________________________________________________\n",
      "activation_16 (Activation)   (None, None, 40)          0         \n",
      "=================================================================\n",
      "Total params: 24,000\n",
      "Trainable params: 24,000\n",
      "Non-trainable params: 0\n",
      "_________________________________________________________________\n",
      "RNN with [0.5, 'RandomNormal', 'sigmoid'] gets accuracy 0.38145540367829406 \n",
      "_________________________________________________________________\n",
      "Layer (type)                 Output Shape              Param #   \n",
      "=================================================================\n",
      "simple_rnn_17 (SimpleRNN)    (None, None, 40)          22360     \n",
      "_________________________________________________________________\n",
      "dropout_17 (Dropout)         (None, None, 40)          0         \n",
      "_________________________________________________________________\n",
      "dense_17 (Dense)             (None, None, 40)          1640      \n",
      "_________________________________________________________________\n",
      "activation_17 (Activation)   (None, None, 40)          0         \n",
      "=================================================================\n",
      "Total params: 24,000\n",
      "Trainable params: 24,000\n",
      "Non-trainable params: 0\n",
      "_________________________________________________________________\n",
      "RNN with [0.5, 'RandomNormal', 'tanh'] gets accuracy 0.38967136003321884 \n",
      "_________________________________________________________________\n",
      "Layer (type)                 Output Shape              Param #   \n",
      "=================================================================\n",
      "simple_rnn_18 (SimpleRNN)    (None, None, 40)          22360     \n",
      "_________________________________________________________________\n",
      "dropout_18 (Dropout)         (None, None, 40)          0         \n",
      "_________________________________________________________________\n",
      "dense_18 (Dense)             (None, None, 40)          1640      \n",
      "_________________________________________________________________\n",
      "activation_18 (Activation)   (None, None, 40)          0         \n",
      "=================================================================\n",
      "Total params: 24,000\n",
      "Trainable params: 24,000\n",
      "Non-trainable params: 0\n",
      "_________________________________________________________________\n"
     ]
    },
    {
     "name": "stdout",
     "output_type": "stream",
     "text": [
      "RNN with [0.5, 'RandomNormal', 'relu'] gets accuracy 0.011737088939533548 \n",
      "_________________________________________________________________\n",
      "Layer (type)                 Output Shape              Param #   \n",
      "=================================================================\n",
      "simple_rnn_19 (SimpleRNN)    (None, None, 40)          22360     \n",
      "_________________________________________________________________\n",
      "dropout_19 (Dropout)         (None, None, 40)          0         \n",
      "_________________________________________________________________\n",
      "dense_19 (Dense)             (None, None, 40)          1640      \n",
      "_________________________________________________________________\n",
      "activation_19 (Activation)   (None, None, 40)          0         \n",
      "=================================================================\n",
      "Total params: 24,000\n",
      "Trainable params: 24,000\n",
      "Non-trainable params: 0\n",
      "_________________________________________________________________\n",
      "RNN with [0.7, 'zeros', 'sigmoid'] gets accuracy 0.31103286391972373 \n",
      "_________________________________________________________________\n",
      "Layer (type)                 Output Shape              Param #   \n",
      "=================================================================\n",
      "simple_rnn_20 (SimpleRNN)    (None, None, 40)          22360     \n",
      "_________________________________________________________________\n",
      "dropout_20 (Dropout)         (None, None, 40)          0         \n",
      "_________________________________________________________________\n",
      "dense_20 (Dense)             (None, None, 40)          1640      \n",
      "_________________________________________________________________\n",
      "activation_20 (Activation)   (None, None, 40)          0         \n",
      "=================================================================\n",
      "Total params: 24,000\n",
      "Trainable params: 24,000\n",
      "Non-trainable params: 0\n",
      "_________________________________________________________________\n",
      "RNN with [0.7, 'zeros', 'tanh'] gets accuracy 0.39671361383417963 \n",
      "_________________________________________________________________\n",
      "Layer (type)                 Output Shape              Param #   \n",
      "=================================================================\n",
      "simple_rnn_21 (SimpleRNN)    (None, None, 40)          22360     \n",
      "_________________________________________________________________\n",
      "dropout_21 (Dropout)         (None, None, 40)          0         \n",
      "_________________________________________________________________\n",
      "dense_21 (Dense)             (None, None, 40)          1640      \n",
      "_________________________________________________________________\n",
      "activation_21 (Activation)   (None, None, 40)          0         \n",
      "=================================================================\n",
      "Total params: 24,000\n",
      "Trainable params: 24,000\n",
      "Non-trainable params: 0\n",
      "_________________________________________________________________\n",
      "RNN with [0.7, 'zeros', 'relu'] gets accuracy 0.03051643124278722 \n",
      "_________________________________________________________________\n",
      "Layer (type)                 Output Shape              Param #   \n",
      "=================================================================\n",
      "simple_rnn_22 (SimpleRNN)    (None, None, 40)          22360     \n",
      "_________________________________________________________________\n",
      "dropout_22 (Dropout)         (None, None, 40)          0         \n",
      "_________________________________________________________________\n",
      "dense_22 (Dense)             (None, None, 40)          1640      \n",
      "_________________________________________________________________\n",
      "activation_22 (Activation)   (None, None, 40)          0         \n",
      "=================================================================\n",
      "Total params: 24,000\n",
      "Trainable params: 24,000\n",
      "Non-trainable params: 0\n",
      "_________________________________________________________________\n",
      "RNN with [0.7, 'Ones', 'sigmoid'] gets accuracy 0.3356807537271943 \n",
      "_________________________________________________________________\n",
      "Layer (type)                 Output Shape              Param #   \n",
      "=================================================================\n",
      "simple_rnn_23 (SimpleRNN)    (None, None, 40)          22360     \n",
      "_________________________________________________________________\n",
      "dropout_23 (Dropout)         (None, None, 40)          0         \n",
      "_________________________________________________________________\n",
      "dense_23 (Dense)             (None, None, 40)          1640      \n",
      "_________________________________________________________________\n",
      "activation_23 (Activation)   (None, None, 40)          0         \n",
      "=================================================================\n",
      "Total params: 24,000\n",
      "Trainable params: 24,000\n",
      "Non-trainable params: 0\n",
      "_________________________________________________________________\n",
      "RNN with [0.7, 'Ones', 'tanh'] gets accuracy 0.36150235070589004 \n",
      "_________________________________________________________________\n",
      "Layer (type)                 Output Shape              Param #   \n",
      "=================================================================\n",
      "simple_rnn_24 (SimpleRNN)    (None, None, 40)          22360     \n",
      "_________________________________________________________________\n",
      "dropout_24 (Dropout)         (None, None, 40)          0         \n",
      "_________________________________________________________________\n",
      "dense_24 (Dense)             (None, None, 40)          1640      \n",
      "_________________________________________________________________\n",
      "activation_24 (Activation)   (None, None, 40)          0         \n",
      "=================================================================\n",
      "Total params: 24,000\n",
      "Trainable params: 24,000\n",
      "Non-trainable params: 0\n",
      "_________________________________________________________________\n",
      "RNN with [0.7, 'Ones', 'relu'] gets accuracy 0.010563380045580193 \n",
      "_________________________________________________________________\n",
      "Layer (type)                 Output Shape              Param #   \n",
      "=================================================================\n",
      "simple_rnn_25 (SimpleRNN)    (None, None, 40)          22360     \n",
      "_________________________________________________________________\n",
      "dropout_25 (Dropout)         (None, None, 40)          0         \n",
      "_________________________________________________________________\n",
      "dense_25 (Dense)             (None, None, 40)          1640      \n",
      "_________________________________________________________________\n",
      "activation_25 (Activation)   (None, None, 40)          0         \n",
      "=================================================================\n",
      "Total params: 24,000\n",
      "Trainable params: 24,000\n",
      "Non-trainable params: 0\n",
      "_________________________________________________________________\n",
      "RNN with [0.7, 'RandomNormal', 'sigmoid'] gets accuracy 0.3732394330868139 \n",
      "_________________________________________________________________\n",
      "Layer (type)                 Output Shape              Param #   \n",
      "=================================================================\n",
      "simple_rnn_26 (SimpleRNN)    (None, None, 40)          22360     \n",
      "_________________________________________________________________\n",
      "dropout_26 (Dropout)         (None, None, 40)          0         \n",
      "_________________________________________________________________\n",
      "dense_26 (Dense)             (None, None, 40)          1640      \n",
      "_________________________________________________________________\n",
      "activation_26 (Activation)   (None, None, 40)          0         \n",
      "=================================================================\n",
      "Total params: 24,000\n",
      "Trainable params: 24,000\n",
      "Non-trainable params: 0\n",
      "_________________________________________________________________\n",
      "RNN with [0.7, 'RandomNormal', 'tanh'] gets accuracy 0.38028169126018113 \n",
      "_________________________________________________________________\n",
      "Layer (type)                 Output Shape              Param #   \n",
      "=================================================================\n",
      "simple_rnn_27 (SimpleRNN)    (None, None, 40)          22360     \n",
      "_________________________________________________________________\n",
      "dropout_27 (Dropout)         (None, None, 40)          0         \n",
      "_________________________________________________________________\n",
      "dense_27 (Dense)             (None, None, 40)          1640      \n",
      "_________________________________________________________________\n",
      "activation_27 (Activation)   (None, None, 40)          0         \n",
      "=================================================================\n",
      "Total params: 24,000\n",
      "Trainable params: 24,000\n",
      "Non-trainable params: 0\n",
      "_________________________________________________________________\n"
     ]
    },
    {
     "name": "stdout",
     "output_type": "stream",
     "text": [
      "RNN with [0.7, 'RandomNormal', 'relu'] gets accuracy 0.01995305119720703 \n",
      "Best FMA with [0.3, 'zeros', 'relu'] gets accuracy 0.42488263190632136 \n"
     ]
    }
   ],
   "source": [
    "do_max = 0\n",
    "bias_max = \"\"\n",
    "act_max = \"\"\n",
    "acc_max = 0\n",
    "batch_size = 50\n",
    "\n",
    "print (\"Processing FMA data upon RNN, hyperparameters are [dropout, bias_initializer, activation]\")\n",
    "\n",
    "for do in [0.3, 0.5, 0.7]:\n",
    "        for bias in [\"zeros\", \"Ones\", \"RandomNormal\"]:\n",
    "            for act in [\"sigmoid\", \"tanh\", \"relu\"]:\n",
    "                model = Sequential()\n",
    "                model.add(SimpleRNN(input_dim=518, output_dim=40, return_sequences=True))  \n",
    "                model.add(Dropout(do))\n",
    "                model.add(Dense(40, bias_initializer=bias))                \n",
    "                model.add(Activation(act))\n",
    "                model.compile(loss='categorical_crossentropy', optimizer='adam', metrics=['accuracy'])\n",
    "                model.summary()\n",
    "                # train the data without std output\n",
    "                hist = model.fit(X_train_rnn, Y_train_rnn, batch_size=batch_size, epochs=20, \n",
    "                          validation_data=(X_test_rnn, Y_test_rnn), verbose=0)\n",
    "                print(\"RNN with [%r, %r, %r] gets accuracy %r \" % (do, bias, act, acc))\n",
    "                # get last accuracy\n",
    "                acc = hist.history.get('acc')[-1]\n",
    "                if acc_max < acc:\n",
    "                    acc_max = acc\n",
    "                    do_max = do\n",
    "                    bias_max = bias\n",
    "                    act_max = act\n",
    "\n",
    "print(\"Best FMA with [%r, %r, %r] gets accuracy %r \" % (\n",
    "    do_max, bias_max, act_max, acc_max))"
   ]
  },
  {
   "cell_type": "markdown",
   "metadata": {},
   "source": [
    "### 3. SVM"
   ]
  },
  {
   "cell_type": "markdown",
   "metadata": {},
   "source": [
    "In machine learning, support vector machines (SVMs, also support vector networks[1]) are supervised learning models with associated learning algorithms that analyze data used for classification and regression analysis. Given a set of training examples, each marked as belonging to one or the other of two categories, an SVM training algorithm builds a model that assigns new examples to one category or the other, making it a non-probabilistic binary linear classifier (although methods such as Platt scaling exist to use SVM in a probabilistic classification setting). An SVM model is a representation of the examples as points in space, mapped so that the examples of the separate categories are divided by a clear gap that is as wide as possible.\n",
    "* The document is licensed by wiki: https://en.wikipedia.org/wiki/Wikipedia:Copyrights"
   ]
  },
  {
   "cell_type": "markdown",
   "metadata": {},
   "source": [
    "![image.png](http://efavdb.com/wp-content/uploads/2015/05/svm_3d_cropped-750x410.png)"
   ]
  },
  {
   "cell_type": "code",
   "execution_count": 84,
   "metadata": {},
   "outputs": [
    {
     "name": "stderr",
     "output_type": "stream",
     "text": [
      "C:\\Users\\maxch_000\\Anaconda3\\lib\\site-packages\\ipykernel_launcher.py:1: UserWarning: Boolean Series key will be reindexed to match DataFrame index.\n",
      "  \"\"\"Entry point for launching an IPython kernel.\n"
     ]
    },
    {
     "data": {
      "text/plain": [
       "1"
      ]
     },
     "execution_count": 84,
     "metadata": {},
     "output_type": "execute_result"
    }
   ],
   "source": [
    "X_train = train.iloc[:, range(2,df.shape[1])].values\n",
    "Y_train = train.iloc[:, [0]].values\n",
    "\n",
    "X_test = test.iloc[:, range(2,df.shape[1])].values\n",
    "Y_test = test.iloc[:, [0]].values\n",
    "1"
   ]
  },
  {
   "cell_type": "code",
   "execution_count": 115,
   "metadata": {},
   "outputs": [
    {
     "name": "stdout",
     "output_type": "stream",
     "text": [
      "Processing FMA data with SVM, hyperparameters are [kernel, C, tol]\n"
     ]
    },
    {
     "name": "stderr",
     "output_type": "stream",
     "text": [
      "C:\\Users\\maxch_000\\Anaconda3\\lib\\site-packages\\sklearn\\utils\\validation.py:578: DataConversionWarning: A column-vector y was passed when a 1d array was expected. Please change the shape of y to (n_samples, ), for example using ravel().\n",
      "  y = column_or_1d(y, warn=True)\n"
     ]
    },
    {
     "name": "stdout",
     "output_type": "stream",
     "text": [
      "SVM with ['linear', 1, 0.01] gets accuracy 0.6914893617021277 \n",
      "SVM with ['linear', 1, 0.001] gets accuracy 0.6914893617021277 \n",
      "SVM with ['linear', 1, 0.0001] gets accuracy 0.6914893617021277 \n",
      "SVM with ['linear', 3, 0.01] gets accuracy 0.6914893617021277 \n",
      "SVM with ['linear', 3, 0.001] gets accuracy 0.6914893617021277 \n",
      "SVM with ['linear', 3, 0.0001] gets accuracy 0.6914893617021277 \n",
      "SVM with ['linear', 10, 0.01] gets accuracy 0.6914893617021277 \n",
      "SVM with ['linear', 10, 0.001] gets accuracy 0.6914893617021277 \n",
      "SVM with ['linear', 10, 0.0001] gets accuracy 0.6914893617021277 \n",
      "SVM with ['rbf', 1, 0.01] gets accuracy 0.39361702127659576 \n",
      "SVM with ['rbf', 1, 0.001] gets accuracy 0.39361702127659576 \n",
      "SVM with ['rbf', 1, 0.0001] gets accuracy 0.39361702127659576 \n",
      "SVM with ['rbf', 3, 0.01] gets accuracy 0.39361702127659576 \n",
      "SVM with ['rbf', 3, 0.001] gets accuracy 0.39361702127659576 \n",
      "SVM with ['rbf', 3, 0.0001] gets accuracy 0.39361702127659576 \n",
      "SVM with ['rbf', 10, 0.01] gets accuracy 0.39361702127659576 \n",
      "SVM with ['rbf', 10, 0.001] gets accuracy 0.39361702127659576 \n",
      "SVM with ['rbf', 10, 0.0001] gets accuracy 0.39361702127659576 \n",
      "SVM with ['sigmoid', 1, 0.01] gets accuracy 0.39361702127659576 \n",
      "SVM with ['sigmoid', 1, 0.001] gets accuracy 0.39361702127659576 \n",
      "SVM with ['sigmoid', 1, 0.0001] gets accuracy 0.39361702127659576 \n",
      "SVM with ['sigmoid', 3, 0.01] gets accuracy 0.39361702127659576 \n",
      "SVM with ['sigmoid', 3, 0.001] gets accuracy 0.39361702127659576 \n",
      "SVM with ['sigmoid', 3, 0.0001] gets accuracy 0.39361702127659576 \n",
      "SVM with ['sigmoid', 10, 0.01] gets accuracy 0.39361702127659576 \n",
      "SVM with ['sigmoid', 10, 0.001] gets accuracy 0.39361702127659576 \n",
      "SVM with ['sigmoid', 10, 0.0001] gets accuracy 0.39361702127659576 \n",
      "Best SVM with ['linear', 1, 0.01] gets accuracy 0.6914893617021277 \n"
     ]
    }
   ],
   "source": [
    "kel_max = \"\"\n",
    "C_max = 0\n",
    "tol_max = 0\n",
    "acc_max = 0\n",
    "\n",
    "print (\"Processing FMA data with SVM, hyperparameters are [kernel, C, tol]\")\n",
    "\n",
    "for kel in [\"linear\",\"rbf\", \"sigmoid\"]:\n",
    "    for c in [1, 3, 10]:\n",
    "        for tol in [1e-2, 1e-3, 1e-4]:\n",
    "            svm_model_linear = SVC(kernel = kel, C = c, tol = tol).fit(X_train, Y_train)\n",
    "            acc = svm_model_linear.score(X_test, Y_test)\n",
    "            print(\"SVM with [%r, %r, %r] gets accuracy %r \" % (kel, c, tol, acc))\n",
    "            if acc_max < acc:\n",
    "                acc_max = acc\n",
    "                kel_max = kel\n",
    "                C_max = c\n",
    "                tol_max = tol\n",
    "\n",
    "print(\"Best SVM with [%r, %r, %r] gets accuracy %r \" % (\n",
    "    kel_max, C_max, tol_max, acc_max))"
   ]
  },
  {
   "cell_type": "markdown",
   "metadata": {},
   "source": [
    "## Observation"
   ]
  },
  {
   "cell_type": "markdown",
   "metadata": {},
   "source": [
    "After going through the analysis we can say following things:\n",
    "    1. The dataset we have used is broader than any study has ever used because studies which were conducted were small dataset where were balanced. however this dataset was created from the dump of FMA which is used used in real world and has more genre and any other dataset ever. Generally in real world working states data is not made balanced is genrated according to use. Studying the real world data is sure to produce realistic results than only the lab created. This dataset also contained multi language songs from another languages unlike any other previous study.\n",
    "    2. The dataset contained features which are have never been used before i.e chroma features. These features are more understandable to human ears. These are the features which are related to octave and can be easily perceived for studies.\n",
    "    3. The best accuracy rate was achived by linear SVM which is 69% when classifying 16 genre type. while the Random Forest and RNN achieved 31% and 42% respectively."
   ]
  },
  {
   "cell_type": "markdown",
   "metadata": {},
   "source": [
    "The code in this repository is released under the terms of the [MIT](LICENSE.txt)."
   ]
  }
 ],
 "metadata": {
  "kernelspec": {
   "display_name": "Python 3",
   "language": "python",
   "name": "python3"
  },
  "language_info": {
   "codemirror_mode": {
    "name": "ipython",
    "version": 3
   },
   "file_extension": ".py",
   "mimetype": "text/x-python",
   "name": "python",
   "nbconvert_exporter": "python",
   "pygments_lexer": "ipython3",
   "version": "3.5.3"
  }
 },
 "nbformat": 4,
 "nbformat_minor": 2
}

{
 "cells": [
  {
   "cell_type": "code",
   "execution_count": 304,
   "metadata": {},
   "outputs": [],
   "source": [
    "import numpy as np\n",
    "import pandas as pd\n",
    "import theano\n",
    "import theano.tensor as T\n",
    "import keras\n",
    "import urllib.request\n",
    "import zipfile\n",
    "import os.path\n",
    "\n",
    "import numpy as np\n",
    "import matplotlib.pyplot as plt\n",
    "import seaborn as sns\n",
    "\n",
    "from sklearn.preprocessing import LabelEncoder\n",
    "from sklearn.preprocessing import StandardScaler\n",
    "from sklearn.model_selection import train_test_split\n",
    "# -- Keras Import\n",
    "from keras.models import Sequential\n",
    "from keras.layers import Dense, Activation\n",
    "from keras.preprocessing import image\n",
    "\n",
    "from keras.datasets import imdb\n",
    "from keras.datasets import mnist\n",
    "\n",
    "from keras.models import Sequential\n",
    "from keras.layers import Dense, Dropout, Activation, Flatten\n",
    "from keras.layers import Conv2D, MaxPooling2D\n",
    "\n",
    "from keras.utils import np_utils\n",
    "from keras.preprocessing import sequence\n",
    "from keras.layers.embeddings import Embedding\n",
    "from keras.layers.recurrent import LSTM, GRU, SimpleRNN\n",
    "\n",
    "from keras.layers import Activation, TimeDistributed, RepeatVector\n",
    "from keras.callbacks import EarlyStopping, ModelCheckpoint"
   ]
  },
  {
   "cell_type": "code",
   "execution_count": 11,
   "metadata": {},
   "outputs": [],
   "source": [
    "# Global variables\n",
    "url_loc = 'https://os.unil.cloud.switch.ch/fma/fma_metadata.zip'\n",
    "file_loc = './data/fma_metadata.zip'\n",
    "dir_unzip_loc = './data/'\n",
    "\n",
    "data_length = 5000"
   ]
  },
  {
   "cell_type": "code",
   "execution_count": 12,
   "metadata": {},
   "outputs": [],
   "source": [
    "# Download zipped fma meta data\n",
    "if not os.path.isfile(file_loc):\n",
    "    urllib.request.urlretrieve(url_loc, file_loc)"
   ]
  },
  {
   "cell_type": "code",
   "execution_count": 14,
   "metadata": {},
   "outputs": [],
   "source": [
    "# Unzip fma meta data\n",
    "if not os.path.isdir(dir_unzip_loc):\n",
    "    with zipfile.ZipFile(file_loc, 'r') as zip_ref:\n",
    "        zip_ref.extractall(dir_unzip_loc)"
   ]
  },
  {
   "cell_type": "code",
   "execution_count": 205,
   "metadata": {},
   "outputs": [
    {
     "data": {
      "text/plain": [
       "1"
      ]
     },
     "execution_count": 205,
     "metadata": {},
     "output_type": "execute_result"
    }
   ],
   "source": [
    "feat_header = pd.read_csv(dir_unzip_loc + \"fma_metadata/features.csv\", header=None, nrows=3)\n",
    "feat_header = feat_header.transpose(copy = True)\n",
    "name = []\n",
    "for index, row in tfh.iterrows():\n",
    "    name.append(row[0]+\"#\"+row[1]+\"#\"+row[2])\n",
    "name[0] = \"track_id\"\n",
    "\n",
    "df_tracks = pd.read_csv(dir_unzip_loc + \"fma_metadata/tracks.csv\", skiprows=[0,2]);\n",
    "df_features = pd.read_csv(dir_unzip_loc + \"fma_metadata/features.csv\", header = None, names= a ,skiprows=4);\n",
    "# df_features = pd.read_csv(dir_unzip_loc + \"fma_metadata/features.csv\", header = None, names= a ,skiprows=4, nrows=data_length);\n",
    "df_genres = pd.read_csv(dir_unzip_loc + \"fma_metadata/genres.csv\", skiprows=0, nrows=data_length);\n",
    "\n",
    "df_tracks = df_tracks.rename(columns={ df_tracks.columns[0]: \"track_id\" })\n",
    "df_features = df_features.rename(columns={ df_features.columns[0]: \"track_id\" })\n",
    "1"
   ]
  },
  {
   "cell_type": "code",
   "execution_count": 202,
   "metadata": {},
   "outputs": [
    {
     "data": {
      "text/html": [
       "<div>\n",
       "<style scoped>\n",
       "    .dataframe tbody tr th:only-of-type {\n",
       "        vertical-align: middle;\n",
       "    }\n",
       "\n",
       "    .dataframe tbody tr th {\n",
       "        vertical-align: top;\n",
       "    }\n",
       "\n",
       "    .dataframe thead th {\n",
       "        text-align: right;\n",
       "    }\n",
       "</style>\n",
       "<table border=\"1\" class=\"dataframe\">\n",
       "  <thead>\n",
       "    <tr style=\"text-align: right;\">\n",
       "      <th></th>\n",
       "      <th>track_id</th>\n",
       "      <th>comments</th>\n",
       "      <th>date_created</th>\n",
       "      <th>date_released</th>\n",
       "      <th>engineer</th>\n",
       "      <th>favorites</th>\n",
       "      <th>id</th>\n",
       "      <th>information</th>\n",
       "      <th>listens</th>\n",
       "      <th>producer</th>\n",
       "      <th>...</th>\n",
       "      <th>information.1</th>\n",
       "      <th>interest</th>\n",
       "      <th>language_code</th>\n",
       "      <th>license</th>\n",
       "      <th>listens.1</th>\n",
       "      <th>lyricist</th>\n",
       "      <th>number</th>\n",
       "      <th>publisher</th>\n",
       "      <th>tags.2</th>\n",
       "      <th>title.1</th>\n",
       "    </tr>\n",
       "  </thead>\n",
       "  <tbody>\n",
       "    <tr>\n",
       "      <th>0</th>\n",
       "      <td>2</td>\n",
       "      <td>0</td>\n",
       "      <td>2008-11-26 01:44:45</td>\n",
       "      <td>2009-01-05 00:00:00</td>\n",
       "      <td>NaN</td>\n",
       "      <td>4</td>\n",
       "      <td>1</td>\n",
       "      <td>&lt;p&gt;&lt;/p&gt;</td>\n",
       "      <td>6073</td>\n",
       "      <td>NaN</td>\n",
       "      <td>...</td>\n",
       "      <td>NaN</td>\n",
       "      <td>4656</td>\n",
       "      <td>en</td>\n",
       "      <td>Attribution-NonCommercial-ShareAlike 3.0 Inter...</td>\n",
       "      <td>1293</td>\n",
       "      <td>NaN</td>\n",
       "      <td>3</td>\n",
       "      <td>NaN</td>\n",
       "      <td>[]</td>\n",
       "      <td>Food</td>\n",
       "    </tr>\n",
       "    <tr>\n",
       "      <th>1</th>\n",
       "      <td>3</td>\n",
       "      <td>0</td>\n",
       "      <td>2008-11-26 01:44:45</td>\n",
       "      <td>2009-01-05 00:00:00</td>\n",
       "      <td>NaN</td>\n",
       "      <td>4</td>\n",
       "      <td>1</td>\n",
       "      <td>&lt;p&gt;&lt;/p&gt;</td>\n",
       "      <td>6073</td>\n",
       "      <td>NaN</td>\n",
       "      <td>...</td>\n",
       "      <td>NaN</td>\n",
       "      <td>1470</td>\n",
       "      <td>en</td>\n",
       "      <td>Attribution-NonCommercial-ShareAlike 3.0 Inter...</td>\n",
       "      <td>514</td>\n",
       "      <td>NaN</td>\n",
       "      <td>4</td>\n",
       "      <td>NaN</td>\n",
       "      <td>[]</td>\n",
       "      <td>Electric Ave</td>\n",
       "    </tr>\n",
       "    <tr>\n",
       "      <th>2</th>\n",
       "      <td>5</td>\n",
       "      <td>0</td>\n",
       "      <td>2008-11-26 01:44:45</td>\n",
       "      <td>2009-01-05 00:00:00</td>\n",
       "      <td>NaN</td>\n",
       "      <td>4</td>\n",
       "      <td>1</td>\n",
       "      <td>&lt;p&gt;&lt;/p&gt;</td>\n",
       "      <td>6073</td>\n",
       "      <td>NaN</td>\n",
       "      <td>...</td>\n",
       "      <td>NaN</td>\n",
       "      <td>1933</td>\n",
       "      <td>en</td>\n",
       "      <td>Attribution-NonCommercial-ShareAlike 3.0 Inter...</td>\n",
       "      <td>1151</td>\n",
       "      <td>NaN</td>\n",
       "      <td>6</td>\n",
       "      <td>NaN</td>\n",
       "      <td>[]</td>\n",
       "      <td>This World</td>\n",
       "    </tr>\n",
       "    <tr>\n",
       "      <th>3</th>\n",
       "      <td>10</td>\n",
       "      <td>0</td>\n",
       "      <td>2008-11-26 01:45:08</td>\n",
       "      <td>2008-02-06 00:00:00</td>\n",
       "      <td>NaN</td>\n",
       "      <td>4</td>\n",
       "      <td>6</td>\n",
       "      <td>NaN</td>\n",
       "      <td>47632</td>\n",
       "      <td>NaN</td>\n",
       "      <td>...</td>\n",
       "      <td>NaN</td>\n",
       "      <td>54881</td>\n",
       "      <td>en</td>\n",
       "      <td>Attribution-NonCommercial-NoDerivatives (aka M...</td>\n",
       "      <td>50135</td>\n",
       "      <td>NaN</td>\n",
       "      <td>1</td>\n",
       "      <td>NaN</td>\n",
       "      <td>[]</td>\n",
       "      <td>Freeway</td>\n",
       "    </tr>\n",
       "    <tr>\n",
       "      <th>4</th>\n",
       "      <td>20</td>\n",
       "      <td>0</td>\n",
       "      <td>2008-11-26 01:45:05</td>\n",
       "      <td>2009-01-06 00:00:00</td>\n",
       "      <td>NaN</td>\n",
       "      <td>2</td>\n",
       "      <td>4</td>\n",
       "      <td>&lt;p&gt; \"spiritual songs\" from Nicky Cook&lt;/p&gt;</td>\n",
       "      <td>2710</td>\n",
       "      <td>NaN</td>\n",
       "      <td>...</td>\n",
       "      <td>NaN</td>\n",
       "      <td>978</td>\n",
       "      <td>en</td>\n",
       "      <td>Attribution-NonCommercial-NoDerivatives (aka M...</td>\n",
       "      <td>361</td>\n",
       "      <td>NaN</td>\n",
       "      <td>3</td>\n",
       "      <td>NaN</td>\n",
       "      <td>[]</td>\n",
       "      <td>Spiritual Level</td>\n",
       "    </tr>\n",
       "  </tbody>\n",
       "</table>\n",
       "<p>5 rows × 53 columns</p>\n",
       "</div>"
      ],
      "text/plain": [
       "   track_id  comments         date_created        date_released engineer  \\\n",
       "0         2         0  2008-11-26 01:44:45  2009-01-05 00:00:00      NaN   \n",
       "1         3         0  2008-11-26 01:44:45  2009-01-05 00:00:00      NaN   \n",
       "2         5         0  2008-11-26 01:44:45  2009-01-05 00:00:00      NaN   \n",
       "3        10         0  2008-11-26 01:45:08  2008-02-06 00:00:00      NaN   \n",
       "4        20         0  2008-11-26 01:45:05  2009-01-06 00:00:00      NaN   \n",
       "\n",
       "   favorites  id                                information  listens producer  \\\n",
       "0          4   1                                    <p></p>     6073      NaN   \n",
       "1          4   1                                    <p></p>     6073      NaN   \n",
       "2          4   1                                    <p></p>     6073      NaN   \n",
       "3          4   6                                        NaN    47632      NaN   \n",
       "4          2   4  <p> \"spiritual songs\" from Nicky Cook</p>     2710      NaN   \n",
       "\n",
       "        ...        information.1 interest  language_code  \\\n",
       "0       ...                  NaN     4656             en   \n",
       "1       ...                  NaN     1470             en   \n",
       "2       ...                  NaN     1933             en   \n",
       "3       ...                  NaN    54881             en   \n",
       "4       ...                  NaN      978             en   \n",
       "\n",
       "                                             license listens.1 lyricist  \\\n",
       "0  Attribution-NonCommercial-ShareAlike 3.0 Inter...      1293      NaN   \n",
       "1  Attribution-NonCommercial-ShareAlike 3.0 Inter...       514      NaN   \n",
       "2  Attribution-NonCommercial-ShareAlike 3.0 Inter...      1151      NaN   \n",
       "3  Attribution-NonCommercial-NoDerivatives (aka M...     50135      NaN   \n",
       "4  Attribution-NonCommercial-NoDerivatives (aka M...       361      NaN   \n",
       "\n",
       "  number publisher  tags.2          title.1  \n",
       "0      3       NaN      []             Food  \n",
       "1      4       NaN      []     Electric Ave  \n",
       "2      6       NaN      []       This World  \n",
       "3      1       NaN      []          Freeway  \n",
       "4      3       NaN      []  Spiritual Level  \n",
       "\n",
       "[5 rows x 53 columns]"
      ]
     },
     "execution_count": 202,
     "metadata": {},
     "output_type": "execute_result"
    }
   ],
   "source": [
    "df_tracks.head()"
   ]
  },
  {
   "cell_type": "code",
   "execution_count": 206,
   "metadata": {},
   "outputs": [
    {
     "name": "stdout",
     "output_type": "stream",
     "text": [
      "<class 'pandas.core.frame.DataFrame'>\n",
      "RangeIndex: 106574 entries, 0 to 106573\n",
      "Data columns (total 53 columns):\n",
      "track_id             106574 non-null int64\n",
      "comments             106574 non-null int64\n",
      "date_created         103045 non-null object\n",
      "date_released        70294 non-null object\n",
      "engineer             15295 non-null object\n",
      "favorites            106574 non-null int64\n",
      "id                   106574 non-null int64\n",
      "information          83149 non-null object\n",
      "listens              106574 non-null int64\n",
      "producer             18060 non-null object\n",
      "tags                 106574 non-null object\n",
      "title                105549 non-null object\n",
      "tracks               106574 non-null int64\n",
      "type                 100066 non-null object\n",
      "active_year_begin    22711 non-null object\n",
      "active_year_end      5375 non-null object\n",
      "associated_labels    14271 non-null object\n",
      "bio                  71156 non-null object\n",
      "comments.1           106574 non-null int64\n",
      "date_created.1       105718 non-null object\n",
      "favorites.1          106574 non-null int64\n",
      "id.1                 106574 non-null int64\n",
      "latitude             44544 non-null float64\n",
      "location             70210 non-null object\n",
      "longitude            44544 non-null float64\n",
      "members              46849 non-null object\n",
      "name                 106574 non-null object\n",
      "related_projects     13152 non-null object\n",
      "tags.1               106574 non-null object\n",
      "website              79256 non-null object\n",
      "wikipedia_page       5581 non-null object\n",
      "split                106574 non-null object\n",
      "subset               106574 non-null object\n",
      "bit_rate             106574 non-null int64\n",
      "comments.2           106574 non-null int64\n",
      "composer             3670 non-null object\n",
      "date_created.2       106574 non-null object\n",
      "date_recorded        6159 non-null object\n",
      "duration             106574 non-null int64\n",
      "favorites.2          106574 non-null int64\n",
      "genre_top            49598 non-null object\n",
      "genres               106574 non-null object\n",
      "genres_all           106574 non-null object\n",
      "information.1        2349 non-null object\n",
      "interest             106574 non-null int64\n",
      "language_code        15024 non-null object\n",
      "license              106487 non-null object\n",
      "listens.1            106574 non-null int64\n",
      "lyricist             311 non-null object\n",
      "number               106574 non-null int64\n",
      "publisher            1263 non-null object\n",
      "tags.2               106574 non-null object\n",
      "title.1              106573 non-null object\n",
      "dtypes: float64(2), int64(16), object(35)\n",
      "memory usage: 43.1+ MB\n"
     ]
    }
   ],
   "source": [
    "df_tracks.info()"
   ]
  },
  {
   "cell_type": "markdown",
   "metadata": {},
   "source": [
    "By looking at the info, we can say following things:\n",
    "1. track_id column doesn't have any value which is no non numeric value. otherwise it would have parsed as object not as int64. \n",
    "1. genre_top column has less number of values, however at the same time genres and genres_all have same value as the track_id which implies if there are no missing values in track_id. Then the genre_top value are the only genres which are only single for one song. Because genre_top only account for the pure genre type of songs while the genre type if for all genres associated with the perticular song. So we are going to focus on this as our classification target.\n",
    "1. We can see there are 30% of missing values for release date for an album (date_released) which is around 70 percent. Which can fairly give us the idea what period of songs were targeted while making the dataset. "
   ]
  },
  {
   "cell_type": "code",
   "execution_count": 218,
   "metadata": {},
   "outputs": [
    {
     "data": {
      "text/plain": [
       "0"
      ]
     },
     "execution_count": 218,
     "metadata": {},
     "output_type": "execute_result"
    }
   ],
   "source": [
    "df_tracks.track_id.isnull().sum()"
   ]
  },
  {
   "cell_type": "markdown",
   "metadata": {},
   "source": [
    "We can see there are no null values for the track_id column"
   ]
  },
  {
   "cell_type": "markdown",
   "metadata": {},
   "source": [
    "## Features Table"
   ]
  },
  {
   "cell_type": "code",
   "execution_count": 83,
   "metadata": {},
   "outputs": [
    {
     "data": {
      "text/html": [
       "<div>\n",
       "<style scoped>\n",
       "    .dataframe tbody tr th:only-of-type {\n",
       "        vertical-align: middle;\n",
       "    }\n",
       "\n",
       "    .dataframe tbody tr th {\n",
       "        vertical-align: top;\n",
       "    }\n",
       "\n",
       "    .dataframe thead th {\n",
       "        text-align: right;\n",
       "    }\n",
       "</style>\n",
       "<table border=\"1\" class=\"dataframe\">\n",
       "  <thead>\n",
       "    <tr style=\"text-align: right;\">\n",
       "      <th></th>\n",
       "      <th>track_id</th>\n",
       "      <th>chroma_cens#kurtosis#01</th>\n",
       "      <th>chroma_cens#kurtosis#02</th>\n",
       "      <th>chroma_cens#kurtosis#03</th>\n",
       "      <th>chroma_cens#kurtosis#04</th>\n",
       "      <th>chroma_cens#kurtosis#05</th>\n",
       "      <th>chroma_cens#kurtosis#06</th>\n",
       "      <th>chroma_cens#kurtosis#07</th>\n",
       "      <th>chroma_cens#kurtosis#08</th>\n",
       "      <th>chroma_cens#kurtosis#09</th>\n",
       "      <th>...</th>\n",
       "      <th>tonnetz#std#04</th>\n",
       "      <th>tonnetz#std#05</th>\n",
       "      <th>tonnetz#std#06</th>\n",
       "      <th>zcr#kurtosis#01</th>\n",
       "      <th>zcr#max#01</th>\n",
       "      <th>zcr#mean#01</th>\n",
       "      <th>zcr#median#01</th>\n",
       "      <th>zcr#min#01</th>\n",
       "      <th>zcr#skew#01</th>\n",
       "      <th>zcr#std#01</th>\n",
       "    </tr>\n",
       "  </thead>\n",
       "  <tbody>\n",
       "    <tr>\n",
       "      <th>0</th>\n",
       "      <td>2</td>\n",
       "      <td>7.180653</td>\n",
       "      <td>5.230309</td>\n",
       "      <td>0.249321</td>\n",
       "      <td>1.347620</td>\n",
       "      <td>1.482478</td>\n",
       "      <td>0.531371</td>\n",
       "      <td>1.481593</td>\n",
       "      <td>2.691455</td>\n",
       "      <td>0.866868</td>\n",
       "      <td>...</td>\n",
       "      <td>0.054125</td>\n",
       "      <td>0.012226</td>\n",
       "      <td>0.012111</td>\n",
       "      <td>5.758890</td>\n",
       "      <td>0.459473</td>\n",
       "      <td>0.085629</td>\n",
       "      <td>0.071289</td>\n",
       "      <td>0.000000</td>\n",
       "      <td>2.089872</td>\n",
       "      <td>0.061448</td>\n",
       "    </tr>\n",
       "    <tr>\n",
       "      <th>1</th>\n",
       "      <td>3</td>\n",
       "      <td>1.888963</td>\n",
       "      <td>0.760539</td>\n",
       "      <td>0.345297</td>\n",
       "      <td>2.295201</td>\n",
       "      <td>1.654031</td>\n",
       "      <td>0.067592</td>\n",
       "      <td>1.366848</td>\n",
       "      <td>1.054094</td>\n",
       "      <td>0.108103</td>\n",
       "      <td>...</td>\n",
       "      <td>0.063831</td>\n",
       "      <td>0.014212</td>\n",
       "      <td>0.017740</td>\n",
       "      <td>2.824694</td>\n",
       "      <td>0.466309</td>\n",
       "      <td>0.084578</td>\n",
       "      <td>0.063965</td>\n",
       "      <td>0.000000</td>\n",
       "      <td>1.716724</td>\n",
       "      <td>0.069330</td>\n",
       "    </tr>\n",
       "    <tr>\n",
       "      <th>2</th>\n",
       "      <td>5</td>\n",
       "      <td>0.527563</td>\n",
       "      <td>-0.077654</td>\n",
       "      <td>-0.279610</td>\n",
       "      <td>0.685883</td>\n",
       "      <td>1.937570</td>\n",
       "      <td>0.880839</td>\n",
       "      <td>-0.923192</td>\n",
       "      <td>-0.927232</td>\n",
       "      <td>0.666617</td>\n",
       "      <td>...</td>\n",
       "      <td>0.040730</td>\n",
       "      <td>0.012691</td>\n",
       "      <td>0.014759</td>\n",
       "      <td>6.808415</td>\n",
       "      <td>0.375000</td>\n",
       "      <td>0.053114</td>\n",
       "      <td>0.041504</td>\n",
       "      <td>0.000000</td>\n",
       "      <td>2.193303</td>\n",
       "      <td>0.044861</td>\n",
       "    </tr>\n",
       "    <tr>\n",
       "      <th>3</th>\n",
       "      <td>10</td>\n",
       "      <td>3.702245</td>\n",
       "      <td>-0.291193</td>\n",
       "      <td>2.196742</td>\n",
       "      <td>-0.234449</td>\n",
       "      <td>1.367364</td>\n",
       "      <td>0.998411</td>\n",
       "      <td>1.770694</td>\n",
       "      <td>1.604566</td>\n",
       "      <td>0.521217</td>\n",
       "      <td>...</td>\n",
       "      <td>0.074358</td>\n",
       "      <td>0.017952</td>\n",
       "      <td>0.013921</td>\n",
       "      <td>21.434212</td>\n",
       "      <td>0.452148</td>\n",
       "      <td>0.077515</td>\n",
       "      <td>0.071777</td>\n",
       "      <td>0.000000</td>\n",
       "      <td>3.542325</td>\n",
       "      <td>0.040800</td>\n",
       "    </tr>\n",
       "    <tr>\n",
       "      <th>4</th>\n",
       "      <td>20</td>\n",
       "      <td>-0.193837</td>\n",
       "      <td>-0.198527</td>\n",
       "      <td>0.201546</td>\n",
       "      <td>0.258556</td>\n",
       "      <td>0.775204</td>\n",
       "      <td>0.084794</td>\n",
       "      <td>-0.289294</td>\n",
       "      <td>-0.816410</td>\n",
       "      <td>0.043851</td>\n",
       "      <td>...</td>\n",
       "      <td>0.095003</td>\n",
       "      <td>0.022492</td>\n",
       "      <td>0.021355</td>\n",
       "      <td>16.669037</td>\n",
       "      <td>0.469727</td>\n",
       "      <td>0.047225</td>\n",
       "      <td>0.040039</td>\n",
       "      <td>0.000977</td>\n",
       "      <td>3.189831</td>\n",
       "      <td>0.030993</td>\n",
       "    </tr>\n",
       "  </tbody>\n",
       "</table>\n",
       "<p>5 rows × 519 columns</p>\n",
       "</div>"
      ],
      "text/plain": [
       "   track_id  chroma_cens#kurtosis#01  chroma_cens#kurtosis#02  \\\n",
       "0         2                 7.180653                 5.230309   \n",
       "1         3                 1.888963                 0.760539   \n",
       "2         5                 0.527563                -0.077654   \n",
       "3        10                 3.702245                -0.291193   \n",
       "4        20                -0.193837                -0.198527   \n",
       "\n",
       "   chroma_cens#kurtosis#03  chroma_cens#kurtosis#04  chroma_cens#kurtosis#05  \\\n",
       "0                 0.249321                 1.347620                 1.482478   \n",
       "1                 0.345297                 2.295201                 1.654031   \n",
       "2                -0.279610                 0.685883                 1.937570   \n",
       "3                 2.196742                -0.234449                 1.367364   \n",
       "4                 0.201546                 0.258556                 0.775204   \n",
       "\n",
       "   chroma_cens#kurtosis#06  chroma_cens#kurtosis#07  chroma_cens#kurtosis#08  \\\n",
       "0                 0.531371                 1.481593                 2.691455   \n",
       "1                 0.067592                 1.366848                 1.054094   \n",
       "2                 0.880839                -0.923192                -0.927232   \n",
       "3                 0.998411                 1.770694                 1.604566   \n",
       "4                 0.084794                -0.289294                -0.816410   \n",
       "\n",
       "   chroma_cens#kurtosis#09     ...      tonnetz#std#04  tonnetz#std#05  \\\n",
       "0                 0.866868     ...            0.054125        0.012226   \n",
       "1                 0.108103     ...            0.063831        0.014212   \n",
       "2                 0.666617     ...            0.040730        0.012691   \n",
       "3                 0.521217     ...            0.074358        0.017952   \n",
       "4                 0.043851     ...            0.095003        0.022492   \n",
       "\n",
       "   tonnetz#std#06  zcr#kurtosis#01  zcr#max#01  zcr#mean#01  zcr#median#01  \\\n",
       "0        0.012111         5.758890    0.459473     0.085629       0.071289   \n",
       "1        0.017740         2.824694    0.466309     0.084578       0.063965   \n",
       "2        0.014759         6.808415    0.375000     0.053114       0.041504   \n",
       "3        0.013921        21.434212    0.452148     0.077515       0.071777   \n",
       "4        0.021355        16.669037    0.469727     0.047225       0.040039   \n",
       "\n",
       "   zcr#min#01  zcr#skew#01  zcr#std#01  \n",
       "0    0.000000     2.089872    0.061448  \n",
       "1    0.000000     1.716724    0.069330  \n",
       "2    0.000000     2.193303    0.044861  \n",
       "3    0.000000     3.542325    0.040800  \n",
       "4    0.000977     3.189831    0.030993  \n",
       "\n",
       "[5 rows x 519 columns]"
      ]
     },
     "execution_count": 83,
     "metadata": {},
     "output_type": "execute_result"
    }
   ],
   "source": [
    "df_features.head()"
   ]
  },
  {
   "cell_type": "code",
   "execution_count": 285,
   "metadata": {},
   "outputs": [
    {
     "name": "stdout",
     "output_type": "stream",
     "text": [
      "<class 'pandas.core.frame.DataFrame'>\n",
      "RangeIndex: 106574 entries, 0 to 106573\n",
      "Columns: 519 entries, track_id to zcr#std#01\n",
      "dtypes: float64(518), int64(1)\n",
      "memory usage: 422.0 MB\n"
     ]
    }
   ],
   "source": [
    "df_features.info()"
   ]
  },
  {
   "cell_type": "markdown",
   "metadata": {},
   "source": [
    "If there is any missing value while the feature extraction"
   ]
  },
  {
   "cell_type": "code",
   "execution_count": 286,
   "metadata": {},
   "outputs": [
    {
     "data": {
      "text/plain": [
       "array([0])"
      ]
     },
     "execution_count": 286,
     "metadata": {},
     "output_type": "execute_result"
    }
   ],
   "source": [
    "df_features.isnull().sum().unique()"
   ]
  },
  {
   "cell_type": "markdown",
   "metadata": {},
   "source": [
    "By looking above we can say that there are no feature which data has net been extracted."
   ]
  },
  {
   "cell_type": "markdown",
   "metadata": {},
   "source": [
    "---\n",
    "### Merging the tables\n",
    "Takeing only the data which we need for training the model."
   ]
  },
  {
   "cell_type": "code",
   "execution_count": 287,
   "metadata": {},
   "outputs": [
    {
     "data": {
      "text/html": [
       "<div>\n",
       "<style scoped>\n",
       "    .dataframe tbody tr th:only-of-type {\n",
       "        vertical-align: middle;\n",
       "    }\n",
       "\n",
       "    .dataframe tbody tr th {\n",
       "        vertical-align: top;\n",
       "    }\n",
       "\n",
       "    .dataframe thead th {\n",
       "        text-align: right;\n",
       "    }\n",
       "</style>\n",
       "<table border=\"1\" class=\"dataframe\">\n",
       "  <thead>\n",
       "    <tr style=\"text-align: right;\">\n",
       "      <th></th>\n",
       "      <th>genre_id</th>\n",
       "      <th>track_id</th>\n",
       "    </tr>\n",
       "  </thead>\n",
       "  <tbody>\n",
       "    <tr>\n",
       "      <th>0</th>\n",
       "      <td>21</td>\n",
       "      <td>2</td>\n",
       "    </tr>\n",
       "    <tr>\n",
       "      <th>1</th>\n",
       "      <td>21</td>\n",
       "      <td>3</td>\n",
       "    </tr>\n",
       "    <tr>\n",
       "      <th>2</th>\n",
       "      <td>21</td>\n",
       "      <td>5</td>\n",
       "    </tr>\n",
       "    <tr>\n",
       "      <th>3</th>\n",
       "      <td>21</td>\n",
       "      <td>134</td>\n",
       "    </tr>\n",
       "    <tr>\n",
       "      <th>4</th>\n",
       "      <td>21</td>\n",
       "      <td>583</td>\n",
       "    </tr>\n",
       "  </tbody>\n",
       "</table>\n",
       "</div>"
      ],
      "text/plain": [
       "   genre_id  track_id\n",
       "0        21         2\n",
       "1        21         3\n",
       "2        21         5\n",
       "3        21       134\n",
       "4        21       583"
      ]
     },
     "execution_count": 287,
     "metadata": {},
     "output_type": "execute_result"
    }
   ],
   "source": [
    "df_tracks_only_genre = df_tracks[['genre_top','track_id']]\n",
    "df_tracks_only_genre_with_id = pd.merge(df_tracks_only_genre, df_genres, left_on=\"genre_top\", right_on=\"title\", how='inner')\n",
    "df_tracks_only_genre_with_id = df_tracks_only_genre_with_id[['genre_id','track_id']]\n",
    "df_tracks_only_genre_with_id.head()"
   ]
  },
  {
   "cell_type": "code",
   "execution_count": 317,
   "metadata": {},
   "outputs": [
    {
     "data": {
      "text/html": [
       "<div>\n",
       "<style scoped>\n",
       "    .dataframe tbody tr th:only-of-type {\n",
       "        vertical-align: middle;\n",
       "    }\n",
       "\n",
       "    .dataframe tbody tr th {\n",
       "        vertical-align: top;\n",
       "    }\n",
       "\n",
       "    .dataframe thead th {\n",
       "        text-align: right;\n",
       "    }\n",
       "</style>\n",
       "<table border=\"1\" class=\"dataframe\">\n",
       "  <thead>\n",
       "    <tr style=\"text-align: right;\">\n",
       "      <th></th>\n",
       "      <th>genre_id</th>\n",
       "      <th>track_id</th>\n",
       "      <th>chroma_cens#kurtosis#01</th>\n",
       "      <th>chroma_cens#kurtosis#02</th>\n",
       "      <th>chroma_cens#kurtosis#03</th>\n",
       "      <th>chroma_cens#kurtosis#04</th>\n",
       "      <th>chroma_cens#kurtosis#05</th>\n",
       "      <th>chroma_cens#kurtosis#06</th>\n",
       "      <th>chroma_cens#kurtosis#07</th>\n",
       "      <th>chroma_cens#kurtosis#08</th>\n",
       "      <th>...</th>\n",
       "      <th>tonnetz#std#04</th>\n",
       "      <th>tonnetz#std#05</th>\n",
       "      <th>tonnetz#std#06</th>\n",
       "      <th>zcr#kurtosis#01</th>\n",
       "      <th>zcr#max#01</th>\n",
       "      <th>zcr#mean#01</th>\n",
       "      <th>zcr#median#01</th>\n",
       "      <th>zcr#min#01</th>\n",
       "      <th>zcr#skew#01</th>\n",
       "      <th>zcr#std#01</th>\n",
       "    </tr>\n",
       "  </thead>\n",
       "  <tbody>\n",
       "    <tr>\n",
       "      <th>0</th>\n",
       "      <td>21</td>\n",
       "      <td>2</td>\n",
       "      <td>7.180653</td>\n",
       "      <td>5.230309</td>\n",
       "      <td>0.249321</td>\n",
       "      <td>1.347620</td>\n",
       "      <td>1.482478</td>\n",
       "      <td>0.531371</td>\n",
       "      <td>1.481593</td>\n",
       "      <td>2.691455</td>\n",
       "      <td>...</td>\n",
       "      <td>0.054125</td>\n",
       "      <td>0.012226</td>\n",
       "      <td>0.012111</td>\n",
       "      <td>5.758890</td>\n",
       "      <td>0.459473</td>\n",
       "      <td>0.085629</td>\n",
       "      <td>0.071289</td>\n",
       "      <td>0.000000</td>\n",
       "      <td>2.089872</td>\n",
       "      <td>0.061448</td>\n",
       "    </tr>\n",
       "    <tr>\n",
       "      <th>1</th>\n",
       "      <td>21</td>\n",
       "      <td>3</td>\n",
       "      <td>1.888963</td>\n",
       "      <td>0.760539</td>\n",
       "      <td>0.345297</td>\n",
       "      <td>2.295201</td>\n",
       "      <td>1.654031</td>\n",
       "      <td>0.067592</td>\n",
       "      <td>1.366848</td>\n",
       "      <td>1.054094</td>\n",
       "      <td>...</td>\n",
       "      <td>0.063831</td>\n",
       "      <td>0.014212</td>\n",
       "      <td>0.017740</td>\n",
       "      <td>2.824694</td>\n",
       "      <td>0.466309</td>\n",
       "      <td>0.084578</td>\n",
       "      <td>0.063965</td>\n",
       "      <td>0.000000</td>\n",
       "      <td>1.716724</td>\n",
       "      <td>0.069330</td>\n",
       "    </tr>\n",
       "    <tr>\n",
       "      <th>2</th>\n",
       "      <td>21</td>\n",
       "      <td>5</td>\n",
       "      <td>0.527563</td>\n",
       "      <td>-0.077654</td>\n",
       "      <td>-0.279610</td>\n",
       "      <td>0.685883</td>\n",
       "      <td>1.937570</td>\n",
       "      <td>0.880839</td>\n",
       "      <td>-0.923192</td>\n",
       "      <td>-0.927232</td>\n",
       "      <td>...</td>\n",
       "      <td>0.040730</td>\n",
       "      <td>0.012691</td>\n",
       "      <td>0.014759</td>\n",
       "      <td>6.808415</td>\n",
       "      <td>0.375000</td>\n",
       "      <td>0.053114</td>\n",
       "      <td>0.041504</td>\n",
       "      <td>0.000000</td>\n",
       "      <td>2.193303</td>\n",
       "      <td>0.044861</td>\n",
       "    </tr>\n",
       "    <tr>\n",
       "      <th>3</th>\n",
       "      <td>21</td>\n",
       "      <td>134</td>\n",
       "      <td>0.918445</td>\n",
       "      <td>0.674147</td>\n",
       "      <td>0.577818</td>\n",
       "      <td>1.281117</td>\n",
       "      <td>0.933746</td>\n",
       "      <td>0.078177</td>\n",
       "      <td>1.199204</td>\n",
       "      <td>-0.175223</td>\n",
       "      <td>...</td>\n",
       "      <td>0.058766</td>\n",
       "      <td>0.016322</td>\n",
       "      <td>0.015819</td>\n",
       "      <td>4.731087</td>\n",
       "      <td>0.419434</td>\n",
       "      <td>0.064370</td>\n",
       "      <td>0.050781</td>\n",
       "      <td>0.000000</td>\n",
       "      <td>1.806106</td>\n",
       "      <td>0.054623</td>\n",
       "    </tr>\n",
       "    <tr>\n",
       "      <th>4</th>\n",
       "      <td>21</td>\n",
       "      <td>583</td>\n",
       "      <td>-0.028032</td>\n",
       "      <td>0.509161</td>\n",
       "      <td>0.067235</td>\n",
       "      <td>0.465656</td>\n",
       "      <td>-0.448363</td>\n",
       "      <td>1.086958</td>\n",
       "      <td>-0.103174</td>\n",
       "      <td>-0.247502</td>\n",
       "      <td>...</td>\n",
       "      <td>0.058434</td>\n",
       "      <td>0.018185</td>\n",
       "      <td>0.017061</td>\n",
       "      <td>2.111479</td>\n",
       "      <td>0.270508</td>\n",
       "      <td>0.036760</td>\n",
       "      <td>0.025879</td>\n",
       "      <td>0.000977</td>\n",
       "      <td>1.296176</td>\n",
       "      <td>0.033785</td>\n",
       "    </tr>\n",
       "  </tbody>\n",
       "</table>\n",
       "<p>5 rows × 520 columns</p>\n",
       "</div>"
      ],
      "text/plain": [
       "   genre_id  track_id  chroma_cens#kurtosis#01  chroma_cens#kurtosis#02  \\\n",
       "0        21         2                 7.180653                 5.230309   \n",
       "1        21         3                 1.888963                 0.760539   \n",
       "2        21         5                 0.527563                -0.077654   \n",
       "3        21       134                 0.918445                 0.674147   \n",
       "4        21       583                -0.028032                 0.509161   \n",
       "\n",
       "   chroma_cens#kurtosis#03  chroma_cens#kurtosis#04  chroma_cens#kurtosis#05  \\\n",
       "0                 0.249321                 1.347620                 1.482478   \n",
       "1                 0.345297                 2.295201                 1.654031   \n",
       "2                -0.279610                 0.685883                 1.937570   \n",
       "3                 0.577818                 1.281117                 0.933746   \n",
       "4                 0.067235                 0.465656                -0.448363   \n",
       "\n",
       "   chroma_cens#kurtosis#06  chroma_cens#kurtosis#07  chroma_cens#kurtosis#08  \\\n",
       "0                 0.531371                 1.481593                 2.691455   \n",
       "1                 0.067592                 1.366848                 1.054094   \n",
       "2                 0.880839                -0.923192                -0.927232   \n",
       "3                 0.078177                 1.199204                -0.175223   \n",
       "4                 1.086958                -0.103174                -0.247502   \n",
       "\n",
       "      ...      tonnetz#std#04  tonnetz#std#05  tonnetz#std#06  \\\n",
       "0     ...            0.054125        0.012226        0.012111   \n",
       "1     ...            0.063831        0.014212        0.017740   \n",
       "2     ...            0.040730        0.012691        0.014759   \n",
       "3     ...            0.058766        0.016322        0.015819   \n",
       "4     ...            0.058434        0.018185        0.017061   \n",
       "\n",
       "   zcr#kurtosis#01  zcr#max#01  zcr#mean#01  zcr#median#01  zcr#min#01  \\\n",
       "0         5.758890    0.459473     0.085629       0.071289    0.000000   \n",
       "1         2.824694    0.466309     0.084578       0.063965    0.000000   \n",
       "2         6.808415    0.375000     0.053114       0.041504    0.000000   \n",
       "3         4.731087    0.419434     0.064370       0.050781    0.000000   \n",
       "4         2.111479    0.270508     0.036760       0.025879    0.000977   \n",
       "\n",
       "   zcr#skew#01  zcr#std#01  \n",
       "0     2.089872    0.061448  \n",
       "1     1.716724    0.069330  \n",
       "2     2.193303    0.044861  \n",
       "3     1.806106    0.054623  \n",
       "4     1.296176    0.033785  \n",
       "\n",
       "[5 rows x 520 columns]"
      ]
     },
     "execution_count": 317,
     "metadata": {},
     "output_type": "execute_result"
    }
   ],
   "source": [
    "# Merge\n",
    "df = pd.merge(df_tracks_only_genre_with_id, df_features, on =\"track_id\", how='inner')\n",
    "df.head()"
   ]
  },
  {
   "cell_type": "markdown",
   "metadata": {},
   "source": [
    "### Null Value check"
   ]
  },
  {
   "cell_type": "code",
   "execution_count": 318,
   "metadata": {},
   "outputs": [
    {
     "data": {
      "text/plain": [
       "array([0])"
      ]
     },
     "execution_count": 318,
     "metadata": {},
     "output_type": "execute_result"
    }
   ],
   "source": [
    "df.isnull().sum().unique()"
   ]
  },
  {
   "cell_type": "markdown",
   "metadata": {},
   "source": [
    "It seems there are no null values"
   ]
  },
  {
   "cell_type": "markdown",
   "metadata": {},
   "source": [
    "### Target Distribution"
   ]
  },
  {
   "cell_type": "code",
   "execution_count": 319,
   "metadata": {},
   "outputs": [
    {
     "data": {
      "text/plain": [
       "16"
      ]
     },
     "execution_count": 319,
     "metadata": {},
     "output_type": "execute_result"
    }
   ],
   "source": [
    "df.genre_id.unique().size"
   ]
  },
  {
   "cell_type": "markdown",
   "metadata": {},
   "source": [
    "We can see that there are total 14 unique types of genres."
   ]
  },
  {
   "cell_type": "code",
   "execution_count": 200,
   "metadata": {},
   "outputs": [
    {
     "data": {
      "text/plain": [
       "<matplotlib.axes._subplots.AxesSubplot at 0x7f3e510bdb70>"
      ]
     },
     "execution_count": 200,
     "metadata": {},
     "output_type": "execute_result"
    },
    {
     "data": {
      "image/png": "[encoded data removed]",
      "text/plain": [
       "<Figure size 720x720 with 1 Axes>"
      ]
     },
     "metadata": {
      "needs_background": "light"
     },
     "output_type": "display_data"
    }
   ],
   "source": [
    "df_genres.sort_values(by=\"#tracks\",ascending=False).head(15).plot(x=\"title\", y=\"#tracks\", kind=\"bar\", figsize=[10,10])"
   ]
  },
  {
   "cell_type": "markdown",
   "metadata": {},
   "source": [
    "We can see that our data doesn't have a uniform distribution. Half of the dataset is Rock."
   ]
  },
  {
   "cell_type": "markdown",
   "metadata": {},
   "source": [
    "---\n",
    "### Song Language Distribution"
   ]
  },
  {
   "cell_type": "code",
   "execution_count": 204,
   "metadata": {},
   "outputs": [
    {
     "data": {
      "text/plain": [
       "<matplotlib.axes._subplots.AxesSubplot at 0x7f3e47d04588>"
      ]
     },
     "execution_count": 204,
     "metadata": {},
     "output_type": "execute_result"
    },
    {
     "data": {
      "image/png": "[encoded data removed]",
      "text/plain": [
       "<Figure size 720x720 with 1 Axes>"
      ]
     },
     "metadata": {
      "needs_background": "light"
     },
     "output_type": "display_data"
    }
   ],
   "source": [
    "df_tracks[\"language_code\"].groupby(df_tracks[\"language_code\"]).count().sort_values(ascending=False).plot(kind=\"bar\", figsize=[10,10])"
   ]
  },
  {
   "cell_type": "markdown",
   "metadata": {},
   "source": [
    "language_code code has lot of missing values which is almost 85%. That means this is not a good variable for taking account unless our data sample has some consideration for the songs language. From the above graph we can say the our data has almost english songs. Let's have finner look at the numbers songs of different languages we have."
   ]
  },
  {
   "cell_type": "markdown",
   "metadata": {},
   "source": [
    "---\n",
    "## Audio Feature Distribution"
   ]
  },
  {
   "cell_type": "markdown",
   "metadata": {},
   "source": [
    "### Zero crossing Rate"
   ]
  },
  {
   "cell_type": "markdown",
   "metadata": {},
   "source": [
    "Let's check the fundamental frequencies for the songs."
   ]
  },
  {
   "cell_type": "code",
   "execution_count": 298,
   "metadata": {},
   "outputs": [
    {
     "data": {
      "text/plain": [
       "<matplotlib.axes._subplots.AxesSubplot at 0x7f3e147aa470>"
      ]
     },
     "execution_count": 298,
     "metadata": {},
     "output_type": "execute_result"
    },
    {
     "data": {
      "image/png": "[encoded data removed]",
      "text/plain": [
       "<Figure size 720x720 with 1 Axes>"
      ]
     },
     "metadata": {
      "needs_background": "light"
     },
     "output_type": "display_data"
    }
   ],
   "source": [
    "df[[\"zcr#mean#01\"]].groupby(df[\"genre_id\"]).mean().sort_values(by = \"zcr#mean#01\",ascending=False).head(20).plot(kind=\"bar\", figsize=[10,10])"
   ]
  },
  {
   "cell_type": "markdown",
   "metadata": {},
   "source": [
    "We can see that zero crossing rate for some songs are clearly higher than the other ones. Which means the genres with higher vale has higher overall frequency than the lower one. which may imply the use of musical instruments with higher frequencies."
   ]
  },
  {
   "cell_type": "markdown",
   "metadata": {},
   "source": [
    "---\n",
    "### RMSE root-mean-square energy"
   ]
  },
  {
   "cell_type": "code",
   "execution_count": 327,
   "metadata": {},
   "outputs": [
    {
     "data": {
      "text/plain": [
       "<matplotlib.axes._subplots.AxesSubplot at 0x7f3e14bd2278>"
      ]
     },
     "execution_count": 327,
     "metadata": {},
     "output_type": "execute_result"
    },
    {
     "data": {
      "image/png": "[encoded data removed]",
      "text/plain": [
       "<Figure size 720x720 with 1 Axes>"
      ]
     },
     "metadata": {
      "needs_background": "light"
     },
     "output_type": "display_data"
    }
   ],
   "source": [
    "df[[\"rmse#mean#01\",\"genre_id\"]].groupby(df[\"genre_id\"]).mean().sort_values(by = \"rmse#mean#01\",ascending=False).head(30).plot(x=\"genre_id\", y=\"rmse#mean#01\", kind=\"bar\", figsize=[10,10])"
   ]
  },
  {
   "cell_type": "code",
   "execution_count": 328,
   "metadata": {},
   "outputs": [
    {
     "data": {
      "image/png": "[encoded data removed]",
      "text/plain": [
       "<Figure size 1080x864 with 1 Axes>"
      ]
     },
     "metadata": {},
     "output_type": "display_data"
    }
   ],
   "source": [
    "sns.set(rc={'figure.figsize':(15,12)})\n",
    "sns.boxplot(x=\"genre_id\", y=\"rmse#mean#01\", data=df);"
   ]
  },
  {
   "cell_type": "markdown",
   "metadata": {},
   "source": [
    "From the above graphs we can see that some songs have more silence in them than the other songs. Here we can see that some genres clearly have more silence in them than the other genres."
   ]
  },
  {
   "cell_type": "markdown",
   "metadata": {},
   "source": [
    "---\n",
    "### Spectral Centroid"
   ]
  },
  {
   "cell_type": "code",
   "execution_count": 330,
   "metadata": {},
   "outputs": [
    {
     "data": {
      "text/plain": [
       "<matplotlib.axes._subplots.AxesSubplot at 0x7f3e149b0208>"
      ]
     },
     "execution_count": 330,
     "metadata": {},
     "output_type": "execute_result"
    },
    {
     "data": {
      "image/png": "[encoded data removed]",
      "text/plain": [
       "<Figure size 720x720 with 1 Axes>"
      ]
     },
     "metadata": {},
     "output_type": "display_data"
    }
   ],
   "source": [
    "df[[\"spectral_centroid#median#01\",\"genre_id\"]].groupby(df[\"genre_id\"]).mean().sort_values(by = \"spectral_centroid#median#01\",ascending=False).head(30).plot(x=\"genre_id\", y=\"spectral_centroid#median#01\", kind=\"bar\", figsize=[10,10])"
   ]
  },
  {
   "cell_type": "markdown",
   "metadata": {},
   "source": [
    "From spectral centroid seems a very good distinguishing factor for desiding as it tells the wheres the centre of mass of the centroid located. And it seems number of songs are pretty biased towards the weight of the songs or the brightness of the songs."
   ]
  }
 ],
 "metadata": {
  "kernelspec": {
   "display_name": "Python 3",
   "language": "python",
   "name": "python3"
  },
  "language_info": {
   "codemirror_mode": {
    "name": "ipython",
    "version": 3
   },
   "file_extension": ".py",
   "mimetype": "text/x-python",
   "name": "python",
   "nbconvert_exporter": "python",
   "pygments_lexer": "ipython3",
   "version": "3.5.3"
  }
 },
 "nbformat": 4,
 "nbformat_minor": 2
}
